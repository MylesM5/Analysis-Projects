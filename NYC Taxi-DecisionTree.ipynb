{
 "cells": [
  {
   "cell_type": "markdown",
   "metadata": {},
   "source": [
    "# Predicting Tips for NYC Yellow Taxi Rides"
   ]
  },
  {
   "cell_type": "markdown",
   "metadata": {},
   "source": [
    "This data was pulled from [TLC](http://www.nyc.gov/html/tlc/html/about/trip_record_data.shtml) (Taxi and Limousine Commission) in New York City. It contains yellow cab data from June 2019. The yellow cab refers to the classic yellow taxi cab which works throughout the borough, as opposed to the green cabs which operate outside of Manhattan. The goal of this project is to find a model that predicts tip amount, and which features in the data are the best predictors."
   ]
  },
  {
   "cell_type": "code",
   "execution_count": 1,
   "metadata": {},
   "outputs": [],
   "source": [
    "import pandas as pd\n",
    "import numpy as np\n",
    "import seaborn as sns\n",
    "import matplotlib.pyplot as plt\n",
    "from datetime import datetime\n",
    "import time as t"
   ]
  },
  {
   "cell_type": "code",
   "execution_count": 2,
   "metadata": {},
   "outputs": [],
   "source": [
    "taxi = pd.read_csv('yellow_tripdata_2019-06.csv')\n",
    "zone = pd.read_csv('taxi+_zone_lookup.csv')\n",
    "taxi_test = taxi.copy()"
   ]
  },
  {
   "cell_type": "code",
   "execution_count": 3,
   "metadata": {
    "scrolled": true
   },
   "outputs": [
    {
     "data": {
      "text/html": [
       "<div>\n",
       "<style scoped>\n",
       "    .dataframe tbody tr th:only-of-type {\n",
       "        vertical-align: middle;\n",
       "    }\n",
       "\n",
       "    .dataframe tbody tr th {\n",
       "        vertical-align: top;\n",
       "    }\n",
       "\n",
       "    .dataframe thead th {\n",
       "        text-align: right;\n",
       "    }\n",
       "</style>\n",
       "<table border=\"1\" class=\"dataframe\">\n",
       "  <thead>\n",
       "    <tr style=\"text-align: right;\">\n",
       "      <th></th>\n",
       "      <th>VendorID</th>\n",
       "      <th>tpep_pickup_datetime</th>\n",
       "      <th>tpep_dropoff_datetime</th>\n",
       "      <th>passenger_count</th>\n",
       "      <th>trip_distance</th>\n",
       "      <th>RatecodeID</th>\n",
       "      <th>store_and_fwd_flag</th>\n",
       "      <th>PULocationID</th>\n",
       "      <th>DOLocationID</th>\n",
       "      <th>payment_type</th>\n",
       "      <th>fare_amount</th>\n",
       "      <th>extra</th>\n",
       "      <th>mta_tax</th>\n",
       "      <th>tip_amount</th>\n",
       "      <th>tolls_amount</th>\n",
       "      <th>improvement_surcharge</th>\n",
       "      <th>total_amount</th>\n",
       "      <th>congestion_surcharge</th>\n",
       "    </tr>\n",
       "  </thead>\n",
       "  <tbody>\n",
       "    <tr>\n",
       "      <th>0</th>\n",
       "      <td>1</td>\n",
       "      <td>2019-06-01 00:55:13</td>\n",
       "      <td>2019-06-01 00:56:17</td>\n",
       "      <td>1</td>\n",
       "      <td>0.0</td>\n",
       "      <td>1</td>\n",
       "      <td>N</td>\n",
       "      <td>145</td>\n",
       "      <td>145</td>\n",
       "      <td>2</td>\n",
       "      <td>3.0</td>\n",
       "      <td>0.5</td>\n",
       "      <td>0.5</td>\n",
       "      <td>0.00</td>\n",
       "      <td>0.0</td>\n",
       "      <td>0.3</td>\n",
       "      <td>4.30</td>\n",
       "      <td>0.0</td>\n",
       "    </tr>\n",
       "    <tr>\n",
       "      <th>1</th>\n",
       "      <td>1</td>\n",
       "      <td>2019-06-01 00:06:31</td>\n",
       "      <td>2019-06-01 00:06:52</td>\n",
       "      <td>1</td>\n",
       "      <td>0.0</td>\n",
       "      <td>1</td>\n",
       "      <td>N</td>\n",
       "      <td>262</td>\n",
       "      <td>263</td>\n",
       "      <td>2</td>\n",
       "      <td>2.5</td>\n",
       "      <td>3.0</td>\n",
       "      <td>0.5</td>\n",
       "      <td>0.00</td>\n",
       "      <td>0.0</td>\n",
       "      <td>0.3</td>\n",
       "      <td>6.30</td>\n",
       "      <td>2.5</td>\n",
       "    </tr>\n",
       "    <tr>\n",
       "      <th>2</th>\n",
       "      <td>1</td>\n",
       "      <td>2019-06-01 00:17:05</td>\n",
       "      <td>2019-06-01 00:36:38</td>\n",
       "      <td>1</td>\n",
       "      <td>4.4</td>\n",
       "      <td>1</td>\n",
       "      <td>N</td>\n",
       "      <td>74</td>\n",
       "      <td>7</td>\n",
       "      <td>2</td>\n",
       "      <td>17.5</td>\n",
       "      <td>0.5</td>\n",
       "      <td>0.5</td>\n",
       "      <td>0.00</td>\n",
       "      <td>0.0</td>\n",
       "      <td>0.3</td>\n",
       "      <td>18.80</td>\n",
       "      <td>0.0</td>\n",
       "    </tr>\n",
       "    <tr>\n",
       "      <th>3</th>\n",
       "      <td>1</td>\n",
       "      <td>2019-06-01 00:59:02</td>\n",
       "      <td>2019-06-01 00:59:12</td>\n",
       "      <td>0</td>\n",
       "      <td>0.8</td>\n",
       "      <td>1</td>\n",
       "      <td>N</td>\n",
       "      <td>145</td>\n",
       "      <td>145</td>\n",
       "      <td>2</td>\n",
       "      <td>2.5</td>\n",
       "      <td>1.0</td>\n",
       "      <td>0.5</td>\n",
       "      <td>0.00</td>\n",
       "      <td>0.0</td>\n",
       "      <td>0.3</td>\n",
       "      <td>4.30</td>\n",
       "      <td>0.0</td>\n",
       "    </tr>\n",
       "    <tr>\n",
       "      <th>4</th>\n",
       "      <td>1</td>\n",
       "      <td>2019-06-01 00:03:25</td>\n",
       "      <td>2019-06-01 00:15:42</td>\n",
       "      <td>1</td>\n",
       "      <td>1.7</td>\n",
       "      <td>1</td>\n",
       "      <td>N</td>\n",
       "      <td>113</td>\n",
       "      <td>148</td>\n",
       "      <td>1</td>\n",
       "      <td>9.5</td>\n",
       "      <td>3.0</td>\n",
       "      <td>0.5</td>\n",
       "      <td>2.65</td>\n",
       "      <td>0.0</td>\n",
       "      <td>0.3</td>\n",
       "      <td>15.95</td>\n",
       "      <td>2.5</td>\n",
       "    </tr>\n",
       "  </tbody>\n",
       "</table>\n",
       "</div>"
      ],
      "text/plain": [
       "   VendorID tpep_pickup_datetime tpep_dropoff_datetime  passenger_count  \\\n",
       "0         1  2019-06-01 00:55:13   2019-06-01 00:56:17                1   \n",
       "1         1  2019-06-01 00:06:31   2019-06-01 00:06:52                1   \n",
       "2         1  2019-06-01 00:17:05   2019-06-01 00:36:38                1   \n",
       "3         1  2019-06-01 00:59:02   2019-06-01 00:59:12                0   \n",
       "4         1  2019-06-01 00:03:25   2019-06-01 00:15:42                1   \n",
       "\n",
       "   trip_distance  RatecodeID store_and_fwd_flag  PULocationID  DOLocationID  \\\n",
       "0            0.0           1                  N           145           145   \n",
       "1            0.0           1                  N           262           263   \n",
       "2            4.4           1                  N            74             7   \n",
       "3            0.8           1                  N           145           145   \n",
       "4            1.7           1                  N           113           148   \n",
       "\n",
       "   payment_type  fare_amount  extra  mta_tax  tip_amount  tolls_amount  \\\n",
       "0             2          3.0    0.5      0.5        0.00           0.0   \n",
       "1             2          2.5    3.0      0.5        0.00           0.0   \n",
       "2             2         17.5    0.5      0.5        0.00           0.0   \n",
       "3             2          2.5    1.0      0.5        0.00           0.0   \n",
       "4             1          9.5    3.0      0.5        2.65           0.0   \n",
       "\n",
       "   improvement_surcharge  total_amount  congestion_surcharge  \n",
       "0                    0.3          4.30                   0.0  \n",
       "1                    0.3          6.30                   2.5  \n",
       "2                    0.3         18.80                   0.0  \n",
       "3                    0.3          4.30                   0.0  \n",
       "4                    0.3         15.95                   2.5  "
      ]
     },
     "execution_count": 3,
     "metadata": {},
     "output_type": "execute_result"
    }
   ],
   "source": [
    "taxi.head()"
   ]
  },
  {
   "cell_type": "code",
   "execution_count": 4,
   "metadata": {},
   "outputs": [
    {
     "data": {
      "text/html": [
       "<div>\n",
       "<style scoped>\n",
       "    .dataframe tbody tr th:only-of-type {\n",
       "        vertical-align: middle;\n",
       "    }\n",
       "\n",
       "    .dataframe tbody tr th {\n",
       "        vertical-align: top;\n",
       "    }\n",
       "\n",
       "    .dataframe thead th {\n",
       "        text-align: right;\n",
       "    }\n",
       "</style>\n",
       "<table border=\"1\" class=\"dataframe\">\n",
       "  <thead>\n",
       "    <tr style=\"text-align: right;\">\n",
       "      <th></th>\n",
       "      <th>VendorID</th>\n",
       "      <th>passenger_count</th>\n",
       "      <th>trip_distance</th>\n",
       "      <th>RatecodeID</th>\n",
       "      <th>PULocationID</th>\n",
       "      <th>DOLocationID</th>\n",
       "      <th>payment_type</th>\n",
       "      <th>fare_amount</th>\n",
       "      <th>extra</th>\n",
       "      <th>mta_tax</th>\n",
       "      <th>tip_amount</th>\n",
       "      <th>tolls_amount</th>\n",
       "      <th>improvement_surcharge</th>\n",
       "      <th>total_amount</th>\n",
       "      <th>congestion_surcharge</th>\n",
       "    </tr>\n",
       "  </thead>\n",
       "  <tbody>\n",
       "    <tr>\n",
       "      <th>count</th>\n",
       "      <td>6.941024e+06</td>\n",
       "      <td>6.941024e+06</td>\n",
       "      <td>6.941024e+06</td>\n",
       "      <td>6.941024e+06</td>\n",
       "      <td>6.941024e+06</td>\n",
       "      <td>6.941024e+06</td>\n",
       "      <td>6.941024e+06</td>\n",
       "      <td>6.941024e+06</td>\n",
       "      <td>6.941024e+06</td>\n",
       "      <td>6.941024e+06</td>\n",
       "      <td>6.941024e+06</td>\n",
       "      <td>6.941024e+06</td>\n",
       "      <td>6.941024e+06</td>\n",
       "      <td>6.941024e+06</td>\n",
       "      <td>6.941024e+06</td>\n",
       "    </tr>\n",
       "    <tr>\n",
       "      <th>mean</th>\n",
       "      <td>1.642546e+00</td>\n",
       "      <td>1.567322e+00</td>\n",
       "      <td>3.078505e+00</td>\n",
       "      <td>1.059386e+00</td>\n",
       "      <td>1.623034e+02</td>\n",
       "      <td>1.608204e+02</td>\n",
       "      <td>1.292040e+00</td>\n",
       "      <td>1.366414e+01</td>\n",
       "      <td>1.164652e+00</td>\n",
       "      <td>4.950010e-01</td>\n",
       "      <td>2.265934e+00</td>\n",
       "      <td>4.061977e-01</td>\n",
       "      <td>2.984860e-01</td>\n",
       "      <td>1.974127e+01</td>\n",
       "      <td>2.274467e+00</td>\n",
       "    </tr>\n",
       "    <tr>\n",
       "      <th>std</th>\n",
       "      <td>5.018739e-01</td>\n",
       "      <td>1.210831e+00</td>\n",
       "      <td>1.790048e+01</td>\n",
       "      <td>7.349947e-01</td>\n",
       "      <td>6.638413e+01</td>\n",
       "      <td>7.046478e+01</td>\n",
       "      <td>4.809936e-01</td>\n",
       "      <td>1.323297e+02</td>\n",
       "      <td>1.275345e+00</td>\n",
       "      <td>1.008513e-01</td>\n",
       "      <td>2.962398e+00</td>\n",
       "      <td>1.797505e+00</td>\n",
       "      <td>2.854512e-02</td>\n",
       "      <td>1.326798e+02</td>\n",
       "      <td>7.289606e-01</td>\n",
       "    </tr>\n",
       "    <tr>\n",
       "      <th>min</th>\n",
       "      <td>1.000000e+00</td>\n",
       "      <td>0.000000e+00</td>\n",
       "      <td>0.000000e+00</td>\n",
       "      <td>1.000000e+00</td>\n",
       "      <td>1.000000e+00</td>\n",
       "      <td>1.000000e+00</td>\n",
       "      <td>1.000000e+00</td>\n",
       "      <td>-3.050000e+02</td>\n",
       "      <td>-2.650000e+01</td>\n",
       "      <td>-5.000000e-01</td>\n",
       "      <td>-8.888000e+01</td>\n",
       "      <td>-3.974000e+01</td>\n",
       "      <td>-3.000000e-01</td>\n",
       "      <td>-3.058000e+02</td>\n",
       "      <td>-2.500000e+00</td>\n",
       "    </tr>\n",
       "    <tr>\n",
       "      <th>25%</th>\n",
       "      <td>1.000000e+00</td>\n",
       "      <td>1.000000e+00</td>\n",
       "      <td>1.000000e+00</td>\n",
       "      <td>1.000000e+00</td>\n",
       "      <td>1.140000e+02</td>\n",
       "      <td>1.070000e+02</td>\n",
       "      <td>1.000000e+00</td>\n",
       "      <td>6.500000e+00</td>\n",
       "      <td>0.000000e+00</td>\n",
       "      <td>5.000000e-01</td>\n",
       "      <td>0.000000e+00</td>\n",
       "      <td>0.000000e+00</td>\n",
       "      <td>3.000000e-01</td>\n",
       "      <td>1.130000e+01</td>\n",
       "      <td>2.500000e+00</td>\n",
       "    </tr>\n",
       "    <tr>\n",
       "      <th>50%</th>\n",
       "      <td>2.000000e+00</td>\n",
       "      <td>1.000000e+00</td>\n",
       "      <td>1.680000e+00</td>\n",
       "      <td>1.000000e+00</td>\n",
       "      <td>1.610000e+02</td>\n",
       "      <td>1.620000e+02</td>\n",
       "      <td>1.000000e+00</td>\n",
       "      <td>9.500000e+00</td>\n",
       "      <td>5.000000e-01</td>\n",
       "      <td>5.000000e-01</td>\n",
       "      <td>1.950000e+00</td>\n",
       "      <td>0.000000e+00</td>\n",
       "      <td>3.000000e-01</td>\n",
       "      <td>1.480000e+01</td>\n",
       "      <td>2.500000e+00</td>\n",
       "    </tr>\n",
       "    <tr>\n",
       "      <th>75%</th>\n",
       "      <td>2.000000e+00</td>\n",
       "      <td>2.000000e+00</td>\n",
       "      <td>3.140000e+00</td>\n",
       "      <td>1.000000e+00</td>\n",
       "      <td>2.330000e+02</td>\n",
       "      <td>2.330000e+02</td>\n",
       "      <td>2.000000e+00</td>\n",
       "      <td>1.500000e+01</td>\n",
       "      <td>2.500000e+00</td>\n",
       "      <td>5.000000e-01</td>\n",
       "      <td>3.000000e+00</td>\n",
       "      <td>0.000000e+00</td>\n",
       "      <td>3.000000e-01</td>\n",
       "      <td>2.130000e+01</td>\n",
       "      <td>2.500000e+00</td>\n",
       "    </tr>\n",
       "    <tr>\n",
       "      <th>max</th>\n",
       "      <td>4.000000e+00</td>\n",
       "      <td>9.000000e+00</td>\n",
       "      <td>4.597722e+04</td>\n",
       "      <td>9.900000e+01</td>\n",
       "      <td>2.650000e+02</td>\n",
       "      <td>2.650000e+02</td>\n",
       "      <td>4.000000e+00</td>\n",
       "      <td>3.469500e+05</td>\n",
       "      <td>8.476000e+01</td>\n",
       "      <td>2.124200e+02</td>\n",
       "      <td>1.624640e+03</td>\n",
       "      <td>8.230000e+02</td>\n",
       "      <td>3.000000e-01</td>\n",
       "      <td>3.470350e+05</td>\n",
       "      <td>2.750000e+00</td>\n",
       "    </tr>\n",
       "  </tbody>\n",
       "</table>\n",
       "</div>"
      ],
      "text/plain": [
       "           VendorID  passenger_count  trip_distance    RatecodeID  \\\n",
       "count  6.941024e+06     6.941024e+06   6.941024e+06  6.941024e+06   \n",
       "mean   1.642546e+00     1.567322e+00   3.078505e+00  1.059386e+00   \n",
       "std    5.018739e-01     1.210831e+00   1.790048e+01  7.349947e-01   \n",
       "min    1.000000e+00     0.000000e+00   0.000000e+00  1.000000e+00   \n",
       "25%    1.000000e+00     1.000000e+00   1.000000e+00  1.000000e+00   \n",
       "50%    2.000000e+00     1.000000e+00   1.680000e+00  1.000000e+00   \n",
       "75%    2.000000e+00     2.000000e+00   3.140000e+00  1.000000e+00   \n",
       "max    4.000000e+00     9.000000e+00   4.597722e+04  9.900000e+01   \n",
       "\n",
       "       PULocationID  DOLocationID  payment_type   fare_amount         extra  \\\n",
       "count  6.941024e+06  6.941024e+06  6.941024e+06  6.941024e+06  6.941024e+06   \n",
       "mean   1.623034e+02  1.608204e+02  1.292040e+00  1.366414e+01  1.164652e+00   \n",
       "std    6.638413e+01  7.046478e+01  4.809936e-01  1.323297e+02  1.275345e+00   \n",
       "min    1.000000e+00  1.000000e+00  1.000000e+00 -3.050000e+02 -2.650000e+01   \n",
       "25%    1.140000e+02  1.070000e+02  1.000000e+00  6.500000e+00  0.000000e+00   \n",
       "50%    1.610000e+02  1.620000e+02  1.000000e+00  9.500000e+00  5.000000e-01   \n",
       "75%    2.330000e+02  2.330000e+02  2.000000e+00  1.500000e+01  2.500000e+00   \n",
       "max    2.650000e+02  2.650000e+02  4.000000e+00  3.469500e+05  8.476000e+01   \n",
       "\n",
       "            mta_tax    tip_amount  tolls_amount  improvement_surcharge  \\\n",
       "count  6.941024e+06  6.941024e+06  6.941024e+06           6.941024e+06   \n",
       "mean   4.950010e-01  2.265934e+00  4.061977e-01           2.984860e-01   \n",
       "std    1.008513e-01  2.962398e+00  1.797505e+00           2.854512e-02   \n",
       "min   -5.000000e-01 -8.888000e+01 -3.974000e+01          -3.000000e-01   \n",
       "25%    5.000000e-01  0.000000e+00  0.000000e+00           3.000000e-01   \n",
       "50%    5.000000e-01  1.950000e+00  0.000000e+00           3.000000e-01   \n",
       "75%    5.000000e-01  3.000000e+00  0.000000e+00           3.000000e-01   \n",
       "max    2.124200e+02  1.624640e+03  8.230000e+02           3.000000e-01   \n",
       "\n",
       "       total_amount  congestion_surcharge  \n",
       "count  6.941024e+06          6.941024e+06  \n",
       "mean   1.974127e+01          2.274467e+00  \n",
       "std    1.326798e+02          7.289606e-01  \n",
       "min   -3.058000e+02         -2.500000e+00  \n",
       "25%    1.130000e+01          2.500000e+00  \n",
       "50%    1.480000e+01          2.500000e+00  \n",
       "75%    2.130000e+01          2.500000e+00  \n",
       "max    3.470350e+05          2.750000e+00  "
      ]
     },
     "execution_count": 4,
     "metadata": {},
     "output_type": "execute_result"
    }
   ],
   "source": [
    "taxi.describe()"
   ]
  },
  {
   "cell_type": "code",
   "execution_count": 5,
   "metadata": {},
   "outputs": [
    {
     "data": {
      "text/plain": [
       "tip_amount               1.000000\n",
       "tolls_amount             0.415130\n",
       "RatecodeID               0.151571\n",
       "trip_distance            0.114146\n",
       "total_amount             0.084424\n",
       "fare_amount              0.056406\n",
       "improvement_surcharge    0.037364\n",
       "VendorID                 0.022998\n",
       "extra                    0.011730\n",
       "passenger_count         -0.001549\n",
       "congestion_surcharge    -0.015685\n",
       "PULocationID            -0.028174\n",
       "DOLocationID            -0.031888\n",
       "mta_tax                 -0.042616\n",
       "payment_type            -0.464510\n",
       "dtype: float64"
      ]
     },
     "execution_count": 5,
     "metadata": {},
     "output_type": "execute_result"
    }
   ],
   "source": [
    "taxi.corrwith(taxi['tip_amount']).sort_values(ascending=False)"
   ]
  },
  {
   "cell_type": "markdown",
   "metadata": {},
   "source": [
    "Looking at the descriptive stats, there seems to be a good amount of range. Specifically looking at tip amount, we have a minimum of 0, and a maximum of more than $1000. Tip amount also has some interesting correlations. For example tolls_amount has a .41, where payment_type has a -.46, these will be kept in mind later when looking at feature importance."
   ]
  },
  {
   "cell_type": "markdown",
   "metadata": {},
   "source": [
    "# Preprocessing"
   ]
  },
  {
   "attachments": {},
   "cell_type": "markdown",
   "metadata": {},
   "source": [
    "One of the bigger challenges I faced with this project was dealing with time, specifically how we could convert the datetimes so a number rather than a string. I experimented with a few methods, one being Ordinal Encoders. The idea behind this was that, given the size of the dataset there could repetitive datetimes. The encoder, assigning a number per datetime would reduce the range of values into a more concise range of values. However, the scaling of these values produced poor results which would have tampered with the algorithm. Next, I explored the idea of reducing the features by converting the datetime strings into datetime objects, subtracting the dropoff from the pick up, and use the duration of the ride as my time feature. But I decided to avoid this as I wanted the day and time to be considered in the algorithm. \n",
    "\n",
    "Finally, I decided on scaling the datetimes via UNIX timestamps, and then using sklearn's MinMaxScaler to get a more accurate scale than that which was produced by the Ordinal Encoder. "
   ]
  },
  {
   "cell_type": "code",
   "execution_count": 6,
   "metadata": {},
   "outputs": [],
   "source": [
    "from sklearn.preprocessing import MinMaxScaler\n",
    "\n",
    "def convert_to_timestamp(x):\n",
    "    for i in x:\n",
    "        t.mktime(i.timetuple())\n",
    "    return x\n",
    "def normalize(df):\n",
    "    scaler = MinMaxScaler(feature_range=(-1, 1))\n",
    "    dates_scaled = scaler.fit_transform(df)\n",
    "    return dates_scaled"
   ]
  },
  {
   "cell_type": "code",
   "execution_count": 7,
   "metadata": {},
   "outputs": [],
   "source": [
    "from sklearn.base import BaseEstimator, TransformerMixin"
   ]
  },
  {
   "cell_type": "code",
   "execution_count": 8,
   "metadata": {},
   "outputs": [],
   "source": [
    "class NormalTime(BaseEstimator,TransformerMixin):\n",
    "    def __init__(self, _time=True):\n",
    "        self._time = _time\n",
    "        \n",
    "    def present(self,x):\n",
    "        updated = x.str.starts_with('2019-')\n",
    "        return updated\n",
    "    \n",
    "    def fit(self,x,y=None):\n",
    "        return self\n",
    "        \n",
    "    def transform(self,x,y=None):\n",
    "        df = pd.DataFrame(x)\n",
    "        if self._time:\n",
    "            y = pd.to_datetime(df.stack()).unstack()\n",
    "            y = pd.DataFrame(y)\n",
    "            y = y.apply(convert_to_timestamp)\n",
    "            i = normalize(y)\n",
    "            return i\n",
    "    \n",
    "        "
   ]
  },
  {
   "cell_type": "code",
   "execution_count": 9,
   "metadata": {},
   "outputs": [],
   "source": [
    "class NumsOnly(BaseEstimator,TransformerMixin):\n",
    "    def fit(self,x,y=None):\n",
    "        return self\n",
    "    \n",
    "    def transform(self,x,y=None):\n",
    "        x = x.drop(columns='store_and_fwd_flag')\n",
    "        return x"
   ]
  },
  {
   "cell_type": "markdown",
   "metadata": {},
   "source": [
    "One quick note on the class used for time conversion. As the TLC admits, this data is prepared by a third party and may not be entirely accurate. In the previous notbook I uploaded, the pickup column shows entries with years as far back as 2001, hence I included the present function to filter those out."
   ]
  },
  {
   "cell_type": "code",
   "execution_count": 10,
   "metadata": {},
   "outputs": [],
   "source": [
    "from sklearn.compose import ColumnTransformer\n",
    "\n",
    "pipeline = ColumnTransformer([\n",
    "    ('time',NormalTime(),[1,2]),('flag',NumsOnly(),[6])],remainder='passthrough') "
   ]
  },
  {
   "cell_type": "code",
   "execution_count": 11,
   "metadata": {},
   "outputs": [],
   "source": [
    "taxi = taxi[taxi['tip_amount']>=0]\n",
    "taxi = taxi[taxi['total_amount']>=0]"
   ]
  },
  {
   "cell_type": "markdown",
   "metadata": {},
   "source": [
    "As mentioned before, the data admittedly has errors and so I've chosen to remove the negative values. "
   ]
  },
  {
   "cell_type": "code",
   "execution_count": 12,
   "metadata": {},
   "outputs": [],
   "source": [
    "from sklearn.model_selection import train_test_split\n",
    "\n",
    "train_set, test_set = train_test_split(taxi, train_size=.6,test_size=.2,random_state=42)"
   ]
  },
  {
   "cell_type": "code",
   "execution_count": 13,
   "metadata": {},
   "outputs": [],
   "source": [
    "train_label = train_set.iloc[:,13]\n",
    "train_set_ = train_set.drop(columns= 'tip_amount')"
   ]
  },
  {
   "cell_type": "code",
   "execution_count": 14,
   "metadata": {
    "scrolled": true
   },
   "outputs": [
    {
     "name": "stderr",
     "output_type": "stream",
     "text": [
      "/Users/myles/anaconda3/lib/python3.7/site-packages/sklearn/preprocessing/data.py:334: DataConversionWarning: Data with input dtype datetime64[ns] were all converted to float64 by MinMaxScaler.\n",
      "  return self.partial_fit(X, y)\n"
     ]
    }
   ],
   "source": [
    "prepared = pipeline.fit_transform(train_set_)"
   ]
  },
  {
   "cell_type": "code",
   "execution_count": 15,
   "metadata": {},
   "outputs": [],
   "source": [
    "data = pd.DataFrame(prepared)"
   ]
  },
  {
   "cell_type": "code",
   "execution_count": 16,
   "metadata": {},
   "outputs": [],
   "source": [
    "y = train_set_.columns\n",
    "y = y.drop('store_and_fwd_flag')"
   ]
  },
  {
   "cell_type": "code",
   "execution_count": 17,
   "metadata": {
    "scrolled": true
   },
   "outputs": [],
   "source": [
    "data.columns = y"
   ]
  },
  {
   "cell_type": "code",
   "execution_count": 18,
   "metadata": {},
   "outputs": [
    {
     "data": {
      "text/html": [
       "<div>\n",
       "<style scoped>\n",
       "    .dataframe tbody tr th:only-of-type {\n",
       "        vertical-align: middle;\n",
       "    }\n",
       "\n",
       "    .dataframe tbody tr th {\n",
       "        vertical-align: top;\n",
       "    }\n",
       "\n",
       "    .dataframe thead th {\n",
       "        text-align: right;\n",
       "    }\n",
       "</style>\n",
       "<table border=\"1\" class=\"dataframe\">\n",
       "  <thead>\n",
       "    <tr style=\"text-align: right;\">\n",
       "      <th></th>\n",
       "      <th>VendorID</th>\n",
       "      <th>tpep_pickup_datetime</th>\n",
       "      <th>tpep_dropoff_datetime</th>\n",
       "      <th>passenger_count</th>\n",
       "      <th>trip_distance</th>\n",
       "      <th>RatecodeID</th>\n",
       "      <th>PULocationID</th>\n",
       "      <th>DOLocationID</th>\n",
       "      <th>payment_type</th>\n",
       "      <th>fare_amount</th>\n",
       "      <th>extra</th>\n",
       "      <th>mta_tax</th>\n",
       "      <th>tolls_amount</th>\n",
       "      <th>improvement_surcharge</th>\n",
       "      <th>total_amount</th>\n",
       "      <th>congestion_surcharge</th>\n",
       "    </tr>\n",
       "  </thead>\n",
       "  <tbody>\n",
       "    <tr>\n",
       "      <th>0</th>\n",
       "      <td>0.964224</td>\n",
       "      <td>0.963992</td>\n",
       "      <td>1.0</td>\n",
       "      <td>1.0</td>\n",
       "      <td>1.80</td>\n",
       "      <td>1.0</td>\n",
       "      <td>162.0</td>\n",
       "      <td>107.0</td>\n",
       "      <td>1.0</td>\n",
       "      <td>10.0</td>\n",
       "      <td>3.0</td>\n",
       "      <td>0.5</td>\n",
       "      <td>0.00</td>\n",
       "      <td>0.3</td>\n",
       "      <td>16.55</td>\n",
       "      <td>2.5</td>\n",
       "    </tr>\n",
       "    <tr>\n",
       "      <th>1</th>\n",
       "      <td>0.964101</td>\n",
       "      <td>0.963877</td>\n",
       "      <td>2.0</td>\n",
       "      <td>1.0</td>\n",
       "      <td>21.80</td>\n",
       "      <td>2.0</td>\n",
       "      <td>132.0</td>\n",
       "      <td>87.0</td>\n",
       "      <td>2.0</td>\n",
       "      <td>52.0</td>\n",
       "      <td>0.0</td>\n",
       "      <td>0.5</td>\n",
       "      <td>6.12</td>\n",
       "      <td>0.3</td>\n",
       "      <td>61.42</td>\n",
       "      <td>2.5</td>\n",
       "    </tr>\n",
       "    <tr>\n",
       "      <th>2</th>\n",
       "      <td>0.963846</td>\n",
       "      <td>0.963616</td>\n",
       "      <td>1.0</td>\n",
       "      <td>1.0</td>\n",
       "      <td>1.00</td>\n",
       "      <td>1.0</td>\n",
       "      <td>48.0</td>\n",
       "      <td>68.0</td>\n",
       "      <td>1.0</td>\n",
       "      <td>14.0</td>\n",
       "      <td>3.5</td>\n",
       "      <td>0.5</td>\n",
       "      <td>0.00</td>\n",
       "      <td>0.3</td>\n",
       "      <td>21.95</td>\n",
       "      <td>2.5</td>\n",
       "    </tr>\n",
       "    <tr>\n",
       "      <th>3</th>\n",
       "      <td>0.966176</td>\n",
       "      <td>0.965942</td>\n",
       "      <td>2.0</td>\n",
       "      <td>1.0</td>\n",
       "      <td>0.39</td>\n",
       "      <td>1.0</td>\n",
       "      <td>163.0</td>\n",
       "      <td>161.0</td>\n",
       "      <td>1.0</td>\n",
       "      <td>4.0</td>\n",
       "      <td>0.0</td>\n",
       "      <td>0.5</td>\n",
       "      <td>0.00</td>\n",
       "      <td>0.3</td>\n",
       "      <td>8.76</td>\n",
       "      <td>2.5</td>\n",
       "    </tr>\n",
       "    <tr>\n",
       "      <th>4</th>\n",
       "      <td>0.962390</td>\n",
       "      <td>0.962158</td>\n",
       "      <td>1.0</td>\n",
       "      <td>2.0</td>\n",
       "      <td>1.30</td>\n",
       "      <td>1.0</td>\n",
       "      <td>158.0</td>\n",
       "      <td>186.0</td>\n",
       "      <td>1.0</td>\n",
       "      <td>9.0</td>\n",
       "      <td>2.5</td>\n",
       "      <td>0.5</td>\n",
       "      <td>0.00</td>\n",
       "      <td>0.3</td>\n",
       "      <td>14.75</td>\n",
       "      <td>2.5</td>\n",
       "    </tr>\n",
       "    <tr>\n",
       "      <th>...</th>\n",
       "      <td>...</td>\n",
       "      <td>...</td>\n",
       "      <td>...</td>\n",
       "      <td>...</td>\n",
       "      <td>...</td>\n",
       "      <td>...</td>\n",
       "      <td>...</td>\n",
       "      <td>...</td>\n",
       "      <td>...</td>\n",
       "      <td>...</td>\n",
       "      <td>...</td>\n",
       "      <td>...</td>\n",
       "      <td>...</td>\n",
       "      <td>...</td>\n",
       "      <td>...</td>\n",
       "      <td>...</td>\n",
       "    </tr>\n",
       "    <tr>\n",
       "      <th>4156205</th>\n",
       "      <td>0.963334</td>\n",
       "      <td>0.963101</td>\n",
       "      <td>1.0</td>\n",
       "      <td>2.0</td>\n",
       "      <td>3.00</td>\n",
       "      <td>1.0</td>\n",
       "      <td>142.0</td>\n",
       "      <td>166.0</td>\n",
       "      <td>1.0</td>\n",
       "      <td>11.0</td>\n",
       "      <td>3.0</td>\n",
       "      <td>0.5</td>\n",
       "      <td>0.00</td>\n",
       "      <td>0.3</td>\n",
       "      <td>17.75</td>\n",
       "      <td>2.5</td>\n",
       "    </tr>\n",
       "    <tr>\n",
       "      <th>4156206</th>\n",
       "      <td>0.968163</td>\n",
       "      <td>0.967929</td>\n",
       "      <td>2.0</td>\n",
       "      <td>1.0</td>\n",
       "      <td>0.81</td>\n",
       "      <td>1.0</td>\n",
       "      <td>68.0</td>\n",
       "      <td>234.0</td>\n",
       "      <td>1.0</td>\n",
       "      <td>6.0</td>\n",
       "      <td>0.0</td>\n",
       "      <td>0.5</td>\n",
       "      <td>0.00</td>\n",
       "      <td>0.3</td>\n",
       "      <td>11.16</td>\n",
       "      <td>2.5</td>\n",
       "    </tr>\n",
       "    <tr>\n",
       "      <th>4156207</th>\n",
       "      <td>0.964761</td>\n",
       "      <td>0.964534</td>\n",
       "      <td>2.0</td>\n",
       "      <td>1.0</td>\n",
       "      <td>6.03</td>\n",
       "      <td>1.0</td>\n",
       "      <td>236.0</td>\n",
       "      <td>231.0</td>\n",
       "      <td>1.0</td>\n",
       "      <td>26.5</td>\n",
       "      <td>1.0</td>\n",
       "      <td>0.5</td>\n",
       "      <td>0.00</td>\n",
       "      <td>0.3</td>\n",
       "      <td>32.80</td>\n",
       "      <td>2.5</td>\n",
       "    </tr>\n",
       "    <tr>\n",
       "      <th>4156208</th>\n",
       "      <td>0.967943</td>\n",
       "      <td>0.967714</td>\n",
       "      <td>1.0</td>\n",
       "      <td>1.0</td>\n",
       "      <td>2.80</td>\n",
       "      <td>1.0</td>\n",
       "      <td>237.0</td>\n",
       "      <td>90.0</td>\n",
       "      <td>1.0</td>\n",
       "      <td>18.0</td>\n",
       "      <td>3.5</td>\n",
       "      <td>0.5</td>\n",
       "      <td>0.00</td>\n",
       "      <td>0.3</td>\n",
       "      <td>26.30</td>\n",
       "      <td>2.5</td>\n",
       "    </tr>\n",
       "    <tr>\n",
       "      <th>4156209</th>\n",
       "      <td>0.969944</td>\n",
       "      <td>0.969709</td>\n",
       "      <td>1.0</td>\n",
       "      <td>1.0</td>\n",
       "      <td>0.30</td>\n",
       "      <td>1.0</td>\n",
       "      <td>233.0</td>\n",
       "      <td>162.0</td>\n",
       "      <td>1.0</td>\n",
       "      <td>3.5</td>\n",
       "      <td>2.5</td>\n",
       "      <td>0.5</td>\n",
       "      <td>0.00</td>\n",
       "      <td>0.3</td>\n",
       "      <td>7.48</td>\n",
       "      <td>2.5</td>\n",
       "    </tr>\n",
       "  </tbody>\n",
       "</table>\n",
       "<p>4156210 rows × 16 columns</p>\n",
       "</div>"
      ],
      "text/plain": [
       "         VendorID  tpep_pickup_datetime  tpep_dropoff_datetime  \\\n",
       "0        0.964224              0.963992                    1.0   \n",
       "1        0.964101              0.963877                    2.0   \n",
       "2        0.963846              0.963616                    1.0   \n",
       "3        0.966176              0.965942                    2.0   \n",
       "4        0.962390              0.962158                    1.0   \n",
       "...           ...                   ...                    ...   \n",
       "4156205  0.963334              0.963101                    1.0   \n",
       "4156206  0.968163              0.967929                    2.0   \n",
       "4156207  0.964761              0.964534                    2.0   \n",
       "4156208  0.967943              0.967714                    1.0   \n",
       "4156209  0.969944              0.969709                    1.0   \n",
       "\n",
       "         passenger_count  trip_distance  RatecodeID  PULocationID  \\\n",
       "0                    1.0           1.80         1.0         162.0   \n",
       "1                    1.0          21.80         2.0         132.0   \n",
       "2                    1.0           1.00         1.0          48.0   \n",
       "3                    1.0           0.39         1.0         163.0   \n",
       "4                    2.0           1.30         1.0         158.0   \n",
       "...                  ...            ...         ...           ...   \n",
       "4156205              2.0           3.00         1.0         142.0   \n",
       "4156206              1.0           0.81         1.0          68.0   \n",
       "4156207              1.0           6.03         1.0         236.0   \n",
       "4156208              1.0           2.80         1.0         237.0   \n",
       "4156209              1.0           0.30         1.0         233.0   \n",
       "\n",
       "         DOLocationID  payment_type  fare_amount  extra  mta_tax  \\\n",
       "0               107.0           1.0         10.0    3.0      0.5   \n",
       "1                87.0           2.0         52.0    0.0      0.5   \n",
       "2                68.0           1.0         14.0    3.5      0.5   \n",
       "3               161.0           1.0          4.0    0.0      0.5   \n",
       "4               186.0           1.0          9.0    2.5      0.5   \n",
       "...               ...           ...          ...    ...      ...   \n",
       "4156205         166.0           1.0         11.0    3.0      0.5   \n",
       "4156206         234.0           1.0          6.0    0.0      0.5   \n",
       "4156207         231.0           1.0         26.5    1.0      0.5   \n",
       "4156208          90.0           1.0         18.0    3.5      0.5   \n",
       "4156209         162.0           1.0          3.5    2.5      0.5   \n",
       "\n",
       "         tolls_amount  improvement_surcharge  total_amount  \\\n",
       "0                0.00                    0.3         16.55   \n",
       "1                6.12                    0.3         61.42   \n",
       "2                0.00                    0.3         21.95   \n",
       "3                0.00                    0.3          8.76   \n",
       "4                0.00                    0.3         14.75   \n",
       "...               ...                    ...           ...   \n",
       "4156205          0.00                    0.3         17.75   \n",
       "4156206          0.00                    0.3         11.16   \n",
       "4156207          0.00                    0.3         32.80   \n",
       "4156208          0.00                    0.3         26.30   \n",
       "4156209          0.00                    0.3          7.48   \n",
       "\n",
       "         congestion_surcharge  \n",
       "0                         2.5  \n",
       "1                         2.5  \n",
       "2                         2.5  \n",
       "3                         2.5  \n",
       "4                         2.5  \n",
       "...                       ...  \n",
       "4156205                   2.5  \n",
       "4156206                   2.5  \n",
       "4156207                   2.5  \n",
       "4156208                   2.5  \n",
       "4156209                   2.5  \n",
       "\n",
       "[4156210 rows x 16 columns]"
      ]
     },
     "execution_count": 18,
     "metadata": {},
     "output_type": "execute_result"
    }
   ],
   "source": [
    "data"
   ]
  },
  {
   "cell_type": "markdown",
   "metadata": {},
   "source": [
    "# Model Selection"
   ]
  },
  {
   "cell_type": "code",
   "execution_count": 19,
   "metadata": {},
   "outputs": [],
   "source": [
    "from sklearn import tree"
   ]
  },
  {
   "cell_type": "code",
   "execution_count": 20,
   "metadata": {},
   "outputs": [],
   "source": [
    "tr = tree.DecisionTreeRegressor(random_state=42)"
   ]
  },
  {
   "attachments": {},
   "cell_type": "markdown",
   "metadata": {},
   "source": [
    "For machine learning specifically with sklearn, I typically like to start with the default parameters, and work from the results to achieve the best model. Hence, why I only chose random_sate as a defined parameter. I also chose the decision tree as the model due to the nature of the problem. In a parallel notebook (which may find its way on to my github), I chose to use scikit’s Neural Network model. Given the vast amount of data, it seemed an appropriate choice in finding a solution to the problem. However, the model was incapable of getting past a score of 79 on validation. The decision tree, which does not require a large amount of data but can still handle it, unlike a Support Vector Machine, seemed to be a good choice."
   ]
  },
  {
   "cell_type": "code",
   "execution_count": 21,
   "metadata": {
    "scrolled": false
   },
   "outputs": [],
   "source": [
    "reg = tr.fit(prepared,train_label)"
   ]
  },
  {
   "cell_type": "code",
   "execution_count": 22,
   "metadata": {},
   "outputs": [],
   "source": [
    "test_label = test_set.iloc[:,13]\n",
    "new_test = test_set.drop(columns ='tip_amount')"
   ]
  },
  {
   "cell_type": "code",
   "execution_count": 23,
   "metadata": {},
   "outputs": [
    {
     "name": "stderr",
     "output_type": "stream",
     "text": [
      "/Users/myles/anaconda3/lib/python3.7/site-packages/sklearn/preprocessing/data.py:334: DataConversionWarning: Data with input dtype datetime64[ns] were all converted to float64 by MinMaxScaler.\n",
      "  return self.partial_fit(X, y)\n"
     ]
    }
   ],
   "source": [
    "new_prepared = pipeline.fit_transform(new_test)"
   ]
  },
  {
   "cell_type": "code",
   "execution_count": 24,
   "metadata": {},
   "outputs": [],
   "source": [
    "from sklearn.metrics import mean_squared_error as mse"
   ]
  },
  {
   "cell_type": "code",
   "execution_count": 25,
   "metadata": {},
   "outputs": [],
   "source": [
    "predictions = reg.predict(new_prepared)"
   ]
  },
  {
   "cell_type": "code",
   "execution_count": 26,
   "metadata": {},
   "outputs": [
    {
     "data": {
      "text/plain": [
       "0.42299917824375016"
      ]
     },
     "execution_count": 26,
     "metadata": {},
     "output_type": "execute_result"
    }
   ],
   "source": [
    "new_score = mse(test_label,predictions)\n",
    "rmse = np.sqrt(new_score)\n",
    "rmse"
   ]
  },
  {
   "cell_type": "code",
   "execution_count": 27,
   "metadata": {
    "scrolled": true
   },
   "outputs": [
    {
     "data": {
      "text/plain": [
       "0.9790140475631839"
      ]
     },
     "execution_count": 27,
     "metadata": {},
     "output_type": "execute_result"
    }
   ],
   "source": [
    "reg.score(new_prepared,test_label)"
   ]
  },
  {
   "cell_type": "markdown",
   "metadata": {},
   "source": [
    "So from the default, we have a model with 97% accuracy, and an rmse of $0.43. Let's take a look at the feature importances."
   ]
  },
  {
   "cell_type": "code",
   "execution_count": 28,
   "metadata": {},
   "outputs": [
    {
     "data": {
      "text/plain": [
       "[('total_amount', 0.5656103826106411),\n",
       " ('payment_type', 0.1959751820246087),\n",
       " ('fare_amount', 0.16604356016354793),\n",
       " ('trip_distance', 0.03615873048547411),\n",
       " ('tolls_amount', 0.02444228055079412),\n",
       " ('congestion_surcharge', 0.00534424118721252),\n",
       " ('extra', 0.004126357054380115),\n",
       " ('RatecodeID', 0.0007065490380638755),\n",
       " ('tpep_dropoff_datetime', 0.00036896358008941117),\n",
       " ('tpep_pickup_datetime', 0.00030952750111037426),\n",
       " ('PULocationID', 0.0003050880069526747),\n",
       " ('passenger_count', 0.00018204386818679929),\n",
       " ('VendorID', 0.0001760847039230928),\n",
       " ('DOLocationID', 0.00017474528155337116),\n",
       " ('mta_tax', 7.230687876088109e-05),\n",
       " ('improvement_surcharge', 3.957064700860075e-06)]"
      ]
     },
     "execution_count": 28,
     "metadata": {},
     "output_type": "execute_result"
    }
   ],
   "source": [
    "x = list(reg.feature_importances_)\n",
    "y = list(data.columns)\n",
    "feat = {}\n",
    "for i in range(len(x)):\n",
    "    feat[y[i]] = x[i]\n",
    "\n",
    "from operator import itemgetter\n",
    "sorted(feat.items(), key=itemgetter(1),reverse=True)"
   ]
  },
  {
   "cell_type": "markdown",
   "metadata": {},
   "source": [
    "So our most important features are total_amount, payment_type, and fare_amount. This will be useful for future implimentations, as we can reduce the amount of data requried for the model. But let's take a look at where our model seems to be off."
   ]
  },
  {
   "cell_type": "markdown",
   "metadata": {},
   "source": [
    "# Looking at the Results"
   ]
  },
  {
   "cell_type": "code",
   "execution_count": 29,
   "metadata": {},
   "outputs": [],
   "source": [
    "for i in range(len(predictions)):\n",
    "    predictions[i]= round(predictions[i],2)"
   ]
  },
  {
   "cell_type": "code",
   "execution_count": 30,
   "metadata": {},
   "outputs": [],
   "source": [
    "scores = {'label':test_label,'predictions':predictions}"
   ]
  },
  {
   "cell_type": "code",
   "execution_count": 31,
   "metadata": {},
   "outputs": [],
   "source": [
    "viz = pd.DataFrame(scores)\n",
    "viz['correct'] = viz['label'] == viz['predictions']"
   ]
  },
  {
   "cell_type": "code",
   "execution_count": 32,
   "metadata": {},
   "outputs": [],
   "source": [
    "%matplotlib inline"
   ]
  },
  {
   "cell_type": "code",
   "execution_count": 33,
   "metadata": {
    "scrolled": false
   },
   "outputs": [
    {
     "data": {
      "text/plain": [
       "(-5, 40)"
      ]
     },
     "execution_count": 33,
     "metadata": {},
     "output_type": "execute_result"
    },
    {
     "data": {
      "image/png": "[encoded data removed]",
      "text/plain": [
       "<Figure size 1080x720 with 1 Axes>"
      ]
     },
     "metadata": {},
     "output_type": "display_data"
    }
   ],
   "source": [
    "sns.set(rc={'figure.figsize':(15,10)},font_scale=1.5)\n",
    "sns.violinplot(x='correct',y='predictions',data=viz, inner=\"quartile\")\n",
    "plt.ylim(-5,40)"
   ]
  },
  {
   "cell_type": "markdown",
   "metadata": {},
   "source": [
    "For this violinplot, the results are graphed with equal area to better undestand the quartiles as opposed to count which would leave the False results unreadable. Another modification made to this representation is the y axis limit. Both the label and prediction go into the 100's making the meat of the data unreadable. "
   ]
  },
  {
   "cell_type": "code",
   "execution_count": 34,
   "metadata": {},
   "outputs": [
    {
     "data": {
      "text/html": [
       "<div>\n",
       "<style scoped>\n",
       "    .dataframe tbody tr th:only-of-type {\n",
       "        vertical-align: middle;\n",
       "    }\n",
       "\n",
       "    .dataframe tbody tr th {\n",
       "        vertical-align: top;\n",
       "    }\n",
       "\n",
       "    .dataframe thead th {\n",
       "        text-align: right;\n",
       "    }\n",
       "</style>\n",
       "<table border=\"1\" class=\"dataframe\">\n",
       "  <thead>\n",
       "    <tr style=\"text-align: right;\">\n",
       "      <th></th>\n",
       "      <th>label</th>\n",
       "      <th>predictions</th>\n",
       "    </tr>\n",
       "  </thead>\n",
       "  <tbody>\n",
       "    <tr>\n",
       "      <th>count</th>\n",
       "      <td>37597.000000</td>\n",
       "      <td>37597.000000</td>\n",
       "    </tr>\n",
       "    <tr>\n",
       "      <th>mean</th>\n",
       "      <td>5.370173</td>\n",
       "      <td>4.662600</td>\n",
       "    </tr>\n",
       "    <tr>\n",
       "      <th>std</th>\n",
       "      <td>7.873838</td>\n",
       "      <td>8.060345</td>\n",
       "    </tr>\n",
       "    <tr>\n",
       "      <th>min</th>\n",
       "      <td>0.000000</td>\n",
       "      <td>0.000000</td>\n",
       "    </tr>\n",
       "    <tr>\n",
       "      <th>25%</th>\n",
       "      <td>2.450000</td>\n",
       "      <td>0.000000</td>\n",
       "    </tr>\n",
       "    <tr>\n",
       "      <th>50%</th>\n",
       "      <td>2.460000</td>\n",
       "      <td>2.500000</td>\n",
       "    </tr>\n",
       "    <tr>\n",
       "      <th>75%</th>\n",
       "      <td>6.000000</td>\n",
       "      <td>6.000000</td>\n",
       "    </tr>\n",
       "    <tr>\n",
       "      <th>max</th>\n",
       "      <td>336.170000</td>\n",
       "      <td>330.000000</td>\n",
       "    </tr>\n",
       "  </tbody>\n",
       "</table>\n",
       "</div>"
      ],
      "text/plain": [
       "              label   predictions\n",
       "count  37597.000000  37597.000000\n",
       "mean       5.370173      4.662600\n",
       "std        7.873838      8.060345\n",
       "min        0.000000      0.000000\n",
       "25%        2.450000      0.000000\n",
       "50%        2.460000      2.500000\n",
       "75%        6.000000      6.000000\n",
       "max      336.170000    330.000000"
      ]
     },
     "execution_count": 34,
     "metadata": {},
     "output_type": "execute_result"
    }
   ],
   "source": [
    "incorrect = viz[viz['predictions']!=viz['label']]\n",
    "incorrect.describe()"
   ]
  },
  {
   "cell_type": "markdown",
   "metadata": {},
   "source": [
    "# Conclusion"
   ]
  },
  {
   "cell_type": "markdown",
   "metadata": {},
   "source": [
    "While this project has produced good results, I am patiently waiting for the commission to release the data for the following months as true validation set. However, this acts a first step in understanding how tips are given. As of now I am satisfied with the model at hand. But I'll be working on generating data for forward propogation, with greater variance, until the data released by the commission is available."
   ]
  }
 ],
 "metadata": {
  "kernelspec": {
   "display_name": "Python 3",
   "language": "python",
   "name": "python3"
  },
  "language_info": {
   "codemirror_mode": {
    "name": "ipython",
    "version": 3
   },
   "file_extension": ".py",
   "mimetype": "text/x-python",
   "name": "python",
   "nbconvert_exporter": "python",
   "pygments_lexer": "ipython3",
   "version": "3.7.3"
  }
 },
 "nbformat": 4,
 "nbformat_minor": 2
}
