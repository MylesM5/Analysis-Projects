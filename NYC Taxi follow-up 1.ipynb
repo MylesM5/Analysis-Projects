{
 "cells": [
  {
   "cell_type": "markdown",
   "metadata": {},
   "source": [
    "# Predicting Tips for NYC Yellow Taxi Rides - Follow Up 1"
   ]
  },
  {
   "cell_type": "markdown",
   "metadata": {},
   "source": [
    "In my intial upload, I mentioned waiting for the TLC to release data on the following months to test our model on future data. In this notebook I took this approach but with previous months, specifically April, May, and June of 2019."
   ]
  },
  {
   "cell_type": "code",
   "execution_count": 1,
   "metadata": {},
   "outputs": [],
   "source": [
    "import pandas as pd\n",
    "import numpy as np\n",
    "import seaborn as sns\n",
    "import matplotlib.pyplot as plt\n",
    "from datetime import datetime\n",
    "import time as t"
   ]
  },
  {
   "cell_type": "code",
   "execution_count": 2,
   "metadata": {},
   "outputs": [],
   "source": [
    "taxi = pd.read_csv('yellow_tripdata_2019-04.csv')\n",
    "taxi_1 = pd.read_csv('yellow_tripdata_2019-05.csv')\n",
    "taxi_2 = pd.read_csv('yellow_tripdata_2019-06.csv')\n",
    "zone = pd.read_csv('taxi+_zone_lookup.csv')\n",
    "taxi_test = taxi.copy()"
   ]
  },
  {
   "cell_type": "code",
   "execution_count": 3,
   "metadata": {
    "scrolled": true
   },
   "outputs": [
    {
     "data": {
      "text/html": [
       "<div>\n",
       "<style scoped>\n",
       "    .dataframe tbody tr th:only-of-type {\n",
       "        vertical-align: middle;\n",
       "    }\n",
       "\n",
       "    .dataframe tbody tr th {\n",
       "        vertical-align: top;\n",
       "    }\n",
       "\n",
       "    .dataframe thead th {\n",
       "        text-align: right;\n",
       "    }\n",
       "</style>\n",
       "<table border=\"1\" class=\"dataframe\">\n",
       "  <thead>\n",
       "    <tr style=\"text-align: right;\">\n",
       "      <th></th>\n",
       "      <th>VendorID</th>\n",
       "      <th>tpep_pickup_datetime</th>\n",
       "      <th>tpep_dropoff_datetime</th>\n",
       "      <th>passenger_count</th>\n",
       "      <th>trip_distance</th>\n",
       "      <th>RatecodeID</th>\n",
       "      <th>store_and_fwd_flag</th>\n",
       "      <th>PULocationID</th>\n",
       "      <th>DOLocationID</th>\n",
       "      <th>payment_type</th>\n",
       "      <th>fare_amount</th>\n",
       "      <th>extra</th>\n",
       "      <th>mta_tax</th>\n",
       "      <th>tip_amount</th>\n",
       "      <th>tolls_amount</th>\n",
       "      <th>improvement_surcharge</th>\n",
       "      <th>total_amount</th>\n",
       "      <th>congestion_surcharge</th>\n",
       "    </tr>\n",
       "  </thead>\n",
       "  <tbody>\n",
       "    <tr>\n",
       "      <th>0</th>\n",
       "      <td>1</td>\n",
       "      <td>2019-04-01 00:04:09</td>\n",
       "      <td>2019-04-01 00:06:35</td>\n",
       "      <td>1</td>\n",
       "      <td>0.5</td>\n",
       "      <td>1</td>\n",
       "      <td>N</td>\n",
       "      <td>239</td>\n",
       "      <td>239</td>\n",
       "      <td>1</td>\n",
       "      <td>4.0</td>\n",
       "      <td>3.0</td>\n",
       "      <td>0.5</td>\n",
       "      <td>1.00</td>\n",
       "      <td>0.0</td>\n",
       "      <td>0.3</td>\n",
       "      <td>8.80</td>\n",
       "      <td>2.5</td>\n",
       "    </tr>\n",
       "    <tr>\n",
       "      <th>1</th>\n",
       "      <td>1</td>\n",
       "      <td>2019-04-01 00:22:45</td>\n",
       "      <td>2019-04-01 00:25:43</td>\n",
       "      <td>1</td>\n",
       "      <td>0.7</td>\n",
       "      <td>1</td>\n",
       "      <td>N</td>\n",
       "      <td>230</td>\n",
       "      <td>100</td>\n",
       "      <td>2</td>\n",
       "      <td>4.5</td>\n",
       "      <td>3.0</td>\n",
       "      <td>0.5</td>\n",
       "      <td>0.00</td>\n",
       "      <td>0.0</td>\n",
       "      <td>0.3</td>\n",
       "      <td>8.30</td>\n",
       "      <td>2.5</td>\n",
       "    </tr>\n",
       "    <tr>\n",
       "      <th>2</th>\n",
       "      <td>1</td>\n",
       "      <td>2019-04-01 00:39:48</td>\n",
       "      <td>2019-04-01 01:19:39</td>\n",
       "      <td>1</td>\n",
       "      <td>10.9</td>\n",
       "      <td>1</td>\n",
       "      <td>N</td>\n",
       "      <td>68</td>\n",
       "      <td>127</td>\n",
       "      <td>1</td>\n",
       "      <td>36.0</td>\n",
       "      <td>3.0</td>\n",
       "      <td>0.5</td>\n",
       "      <td>7.95</td>\n",
       "      <td>0.0</td>\n",
       "      <td>0.3</td>\n",
       "      <td>47.75</td>\n",
       "      <td>2.5</td>\n",
       "    </tr>\n",
       "    <tr>\n",
       "      <th>3</th>\n",
       "      <td>1</td>\n",
       "      <td>2019-04-01 00:35:32</td>\n",
       "      <td>2019-04-01 00:37:11</td>\n",
       "      <td>1</td>\n",
       "      <td>0.2</td>\n",
       "      <td>1</td>\n",
       "      <td>N</td>\n",
       "      <td>68</td>\n",
       "      <td>68</td>\n",
       "      <td>2</td>\n",
       "      <td>3.5</td>\n",
       "      <td>3.0</td>\n",
       "      <td>0.5</td>\n",
       "      <td>0.00</td>\n",
       "      <td>0.0</td>\n",
       "      <td>0.3</td>\n",
       "      <td>7.30</td>\n",
       "      <td>2.5</td>\n",
       "    </tr>\n",
       "    <tr>\n",
       "      <th>4</th>\n",
       "      <td>1</td>\n",
       "      <td>2019-04-01 00:44:05</td>\n",
       "      <td>2019-04-01 00:57:58</td>\n",
       "      <td>1</td>\n",
       "      <td>4.8</td>\n",
       "      <td>1</td>\n",
       "      <td>N</td>\n",
       "      <td>50</td>\n",
       "      <td>42</td>\n",
       "      <td>1</td>\n",
       "      <td>15.5</td>\n",
       "      <td>3.0</td>\n",
       "      <td>0.5</td>\n",
       "      <td>3.85</td>\n",
       "      <td>0.0</td>\n",
       "      <td>0.3</td>\n",
       "      <td>23.15</td>\n",
       "      <td>2.5</td>\n",
       "    </tr>\n",
       "  </tbody>\n",
       "</table>\n",
       "</div>"
      ],
      "text/plain": [
       "   VendorID tpep_pickup_datetime tpep_dropoff_datetime  passenger_count  \\\n",
       "0         1  2019-04-01 00:04:09   2019-04-01 00:06:35                1   \n",
       "1         1  2019-04-01 00:22:45   2019-04-01 00:25:43                1   \n",
       "2         1  2019-04-01 00:39:48   2019-04-01 01:19:39                1   \n",
       "3         1  2019-04-01 00:35:32   2019-04-01 00:37:11                1   \n",
       "4         1  2019-04-01 00:44:05   2019-04-01 00:57:58                1   \n",
       "\n",
       "   trip_distance  RatecodeID store_and_fwd_flag  PULocationID  DOLocationID  \\\n",
       "0            0.5           1                  N           239           239   \n",
       "1            0.7           1                  N           230           100   \n",
       "2           10.9           1                  N            68           127   \n",
       "3            0.2           1                  N            68            68   \n",
       "4            4.8           1                  N            50            42   \n",
       "\n",
       "   payment_type  fare_amount  extra  mta_tax  tip_amount  tolls_amount  \\\n",
       "0             1          4.0    3.0      0.5        1.00           0.0   \n",
       "1             2          4.5    3.0      0.5        0.00           0.0   \n",
       "2             1         36.0    3.0      0.5        7.95           0.0   \n",
       "3             2          3.5    3.0      0.5        0.00           0.0   \n",
       "4             1         15.5    3.0      0.5        3.85           0.0   \n",
       "\n",
       "   improvement_surcharge  total_amount  congestion_surcharge  \n",
       "0                    0.3          8.80                   2.5  \n",
       "1                    0.3          8.30                   2.5  \n",
       "2                    0.3         47.75                   2.5  \n",
       "3                    0.3          7.30                   2.5  \n",
       "4                    0.3         23.15                   2.5  "
      ]
     },
     "execution_count": 3,
     "metadata": {},
     "output_type": "execute_result"
    }
   ],
   "source": [
    "taxi.head()"
   ]
  },
  {
   "cell_type": "code",
   "execution_count": 4,
   "metadata": {},
   "outputs": [
    {
     "data": {
      "text/html": [
       "<div>\n",
       "<style scoped>\n",
       "    .dataframe tbody tr th:only-of-type {\n",
       "        vertical-align: middle;\n",
       "    }\n",
       "\n",
       "    .dataframe tbody tr th {\n",
       "        vertical-align: top;\n",
       "    }\n",
       "\n",
       "    .dataframe thead th {\n",
       "        text-align: right;\n",
       "    }\n",
       "</style>\n",
       "<table border=\"1\" class=\"dataframe\">\n",
       "  <thead>\n",
       "    <tr style=\"text-align: right;\">\n",
       "      <th></th>\n",
       "      <th>VendorID</th>\n",
       "      <th>passenger_count</th>\n",
       "      <th>trip_distance</th>\n",
       "      <th>RatecodeID</th>\n",
       "      <th>PULocationID</th>\n",
       "      <th>DOLocationID</th>\n",
       "      <th>payment_type</th>\n",
       "      <th>fare_amount</th>\n",
       "      <th>extra</th>\n",
       "      <th>mta_tax</th>\n",
       "      <th>tip_amount</th>\n",
       "      <th>tolls_amount</th>\n",
       "      <th>improvement_surcharge</th>\n",
       "      <th>total_amount</th>\n",
       "      <th>congestion_surcharge</th>\n",
       "    </tr>\n",
       "  </thead>\n",
       "  <tbody>\n",
       "    <tr>\n",
       "      <th>count</th>\n",
       "      <td>7.433139e+06</td>\n",
       "      <td>7.433139e+06</td>\n",
       "      <td>7.433139e+06</td>\n",
       "      <td>7.433139e+06</td>\n",
       "      <td>7.433139e+06</td>\n",
       "      <td>7.433139e+06</td>\n",
       "      <td>7.433139e+06</td>\n",
       "      <td>7.433139e+06</td>\n",
       "      <td>7.433139e+06</td>\n",
       "      <td>7.433139e+06</td>\n",
       "      <td>7.433139e+06</td>\n",
       "      <td>7.433139e+06</td>\n",
       "      <td>7.433139e+06</td>\n",
       "      <td>7.433139e+06</td>\n",
       "      <td>7.433139e+06</td>\n",
       "    </tr>\n",
       "    <tr>\n",
       "      <th>mean</th>\n",
       "      <td>1.636259e+00</td>\n",
       "      <td>1.573301e+00</td>\n",
       "      <td>2.998019e+00</td>\n",
       "      <td>1.057416e+00</td>\n",
       "      <td>1.633672e+02</td>\n",
       "      <td>1.615346e+02</td>\n",
       "      <td>1.288608e+00</td>\n",
       "      <td>1.319433e+01</td>\n",
       "      <td>1.212602e+00</td>\n",
       "      <td>4.957358e-01</td>\n",
       "      <td>2.212688e+00</td>\n",
       "      <td>3.821195e-01</td>\n",
       "      <td>2.988961e-01</td>\n",
       "      <td>1.922981e+01</td>\n",
       "      <td>2.291299e+00</td>\n",
       "    </tr>\n",
       "    <tr>\n",
       "      <th>std</th>\n",
       "      <td>5.071082e-01</td>\n",
       "      <td>1.224597e+00</td>\n",
       "      <td>3.908213e+00</td>\n",
       "      <td>7.037535e-01</td>\n",
       "      <td>6.615664e+01</td>\n",
       "      <td>7.037945e+01</td>\n",
       "      <td>4.761804e-01</td>\n",
       "      <td>1.457199e+02</td>\n",
       "      <td>1.288626e+00</td>\n",
       "      <td>5.482860e-02</td>\n",
       "      <td>2.772410e+00</td>\n",
       "      <td>1.718031e+00</td>\n",
       "      <td>2.486543e-02</td>\n",
       "      <td>1.459684e+02</td>\n",
       "      <td>7.017208e-01</td>\n",
       "    </tr>\n",
       "    <tr>\n",
       "      <th>min</th>\n",
       "      <td>1.000000e+00</td>\n",
       "      <td>0.000000e+00</td>\n",
       "      <td>0.000000e+00</td>\n",
       "      <td>1.000000e+00</td>\n",
       "      <td>1.000000e+00</td>\n",
       "      <td>1.000000e+00</td>\n",
       "      <td>1.000000e+00</td>\n",
       "      <td>-4.500800e+02</td>\n",
       "      <td>-2.460000e+01</td>\n",
       "      <td>-5.000000e-01</td>\n",
       "      <td>-8.800000e+01</td>\n",
       "      <td>-2.300000e+01</td>\n",
       "      <td>-3.000000e-01</td>\n",
       "      <td>-4.508800e+02</td>\n",
       "      <td>-2.500000e+00</td>\n",
       "    </tr>\n",
       "    <tr>\n",
       "      <th>25%</th>\n",
       "      <td>1.000000e+00</td>\n",
       "      <td>1.000000e+00</td>\n",
       "      <td>1.000000e+00</td>\n",
       "      <td>1.000000e+00</td>\n",
       "      <td>1.160000e+02</td>\n",
       "      <td>1.070000e+02</td>\n",
       "      <td>1.000000e+00</td>\n",
       "      <td>6.500000e+00</td>\n",
       "      <td>0.000000e+00</td>\n",
       "      <td>5.000000e-01</td>\n",
       "      <td>0.000000e+00</td>\n",
       "      <td>0.000000e+00</td>\n",
       "      <td>3.000000e-01</td>\n",
       "      <td>1.130000e+01</td>\n",
       "      <td>2.500000e+00</td>\n",
       "    </tr>\n",
       "    <tr>\n",
       "      <th>50%</th>\n",
       "      <td>2.000000e+00</td>\n",
       "      <td>1.000000e+00</td>\n",
       "      <td>1.640000e+00</td>\n",
       "      <td>1.000000e+00</td>\n",
       "      <td>1.620000e+02</td>\n",
       "      <td>1.620000e+02</td>\n",
       "      <td>1.000000e+00</td>\n",
       "      <td>9.500000e+00</td>\n",
       "      <td>5.000000e-01</td>\n",
       "      <td>5.000000e-01</td>\n",
       "      <td>1.950000e+00</td>\n",
       "      <td>0.000000e+00</td>\n",
       "      <td>3.000000e-01</td>\n",
       "      <td>1.476000e+01</td>\n",
       "      <td>2.500000e+00</td>\n",
       "    </tr>\n",
       "    <tr>\n",
       "      <th>75%</th>\n",
       "      <td>2.000000e+00</td>\n",
       "      <td>2.000000e+00</td>\n",
       "      <td>3.050000e+00</td>\n",
       "      <td>1.000000e+00</td>\n",
       "      <td>2.330000e+02</td>\n",
       "      <td>2.340000e+02</td>\n",
       "      <td>2.000000e+00</td>\n",
       "      <td>1.450000e+01</td>\n",
       "      <td>2.500000e+00</td>\n",
       "      <td>5.000000e-01</td>\n",
       "      <td>2.960000e+00</td>\n",
       "      <td>0.000000e+00</td>\n",
       "      <td>3.000000e-01</td>\n",
       "      <td>2.075000e+01</td>\n",
       "      <td>2.500000e+00</td>\n",
       "    </tr>\n",
       "    <tr>\n",
       "      <th>max</th>\n",
       "      <td>4.000000e+00</td>\n",
       "      <td>9.000000e+00</td>\n",
       "      <td>8.309000e+02</td>\n",
       "      <td>9.900000e+01</td>\n",
       "      <td>2.650000e+02</td>\n",
       "      <td>2.650000e+02</td>\n",
       "      <td>4.000000e+00</td>\n",
       "      <td>3.958399e+05</td>\n",
       "      <td>2.000000e+01</td>\n",
       "      <td>2.745000e+01</td>\n",
       "      <td>4.408000e+02</td>\n",
       "      <td>8.125900e+02</td>\n",
       "      <td>1.000000e+00</td>\n",
       "      <td>3.958412e+05</td>\n",
       "      <td>2.750000e+00</td>\n",
       "    </tr>\n",
       "  </tbody>\n",
       "</table>\n",
       "</div>"
      ],
      "text/plain": [
       "           VendorID  passenger_count  trip_distance    RatecodeID  \\\n",
       "count  7.433139e+06     7.433139e+06   7.433139e+06  7.433139e+06   \n",
       "mean   1.636259e+00     1.573301e+00   2.998019e+00  1.057416e+00   \n",
       "std    5.071082e-01     1.224597e+00   3.908213e+00  7.037535e-01   \n",
       "min    1.000000e+00     0.000000e+00   0.000000e+00  1.000000e+00   \n",
       "25%    1.000000e+00     1.000000e+00   1.000000e+00  1.000000e+00   \n",
       "50%    2.000000e+00     1.000000e+00   1.640000e+00  1.000000e+00   \n",
       "75%    2.000000e+00     2.000000e+00   3.050000e+00  1.000000e+00   \n",
       "max    4.000000e+00     9.000000e+00   8.309000e+02  9.900000e+01   \n",
       "\n",
       "       PULocationID  DOLocationID  payment_type   fare_amount         extra  \\\n",
       "count  7.433139e+06  7.433139e+06  7.433139e+06  7.433139e+06  7.433139e+06   \n",
       "mean   1.633672e+02  1.615346e+02  1.288608e+00  1.319433e+01  1.212602e+00   \n",
       "std    6.615664e+01  7.037945e+01  4.761804e-01  1.457199e+02  1.288626e+00   \n",
       "min    1.000000e+00  1.000000e+00  1.000000e+00 -4.500800e+02 -2.460000e+01   \n",
       "25%    1.160000e+02  1.070000e+02  1.000000e+00  6.500000e+00  0.000000e+00   \n",
       "50%    1.620000e+02  1.620000e+02  1.000000e+00  9.500000e+00  5.000000e-01   \n",
       "75%    2.330000e+02  2.340000e+02  2.000000e+00  1.450000e+01  2.500000e+00   \n",
       "max    2.650000e+02  2.650000e+02  4.000000e+00  3.958399e+05  2.000000e+01   \n",
       "\n",
       "            mta_tax    tip_amount  tolls_amount  improvement_surcharge  \\\n",
       "count  7.433139e+06  7.433139e+06  7.433139e+06           7.433139e+06   \n",
       "mean   4.957358e-01  2.212688e+00  3.821195e-01           2.988961e-01   \n",
       "std    5.482860e-02  2.772410e+00  1.718031e+00           2.486543e-02   \n",
       "min   -5.000000e-01 -8.800000e+01 -2.300000e+01          -3.000000e-01   \n",
       "25%    5.000000e-01  0.000000e+00  0.000000e+00           3.000000e-01   \n",
       "50%    5.000000e-01  1.950000e+00  0.000000e+00           3.000000e-01   \n",
       "75%    5.000000e-01  2.960000e+00  0.000000e+00           3.000000e-01   \n",
       "max    2.745000e+01  4.408000e+02  8.125900e+02           1.000000e+00   \n",
       "\n",
       "       total_amount  congestion_surcharge  \n",
       "count  7.433139e+06          7.433139e+06  \n",
       "mean   1.922981e+01          2.291299e+00  \n",
       "std    1.459684e+02          7.017208e-01  \n",
       "min   -4.508800e+02         -2.500000e+00  \n",
       "25%    1.130000e+01          2.500000e+00  \n",
       "50%    1.476000e+01          2.500000e+00  \n",
       "75%    2.075000e+01          2.500000e+00  \n",
       "max    3.958412e+05          2.750000e+00  "
      ]
     },
     "execution_count": 4,
     "metadata": {},
     "output_type": "execute_result"
    }
   ],
   "source": [
    "taxi.describe()"
   ]
  },
  {
   "cell_type": "code",
   "execution_count": 5,
   "metadata": {},
   "outputs": [],
   "source": [
    "from sklearn.preprocessing import MinMaxScaler\n",
    "\n",
    "def convert_to_timestamp(x):\n",
    "    for i in x:\n",
    "        t.mktime(i.timetuple())\n",
    "    return x\n",
    "def normalize(df):\n",
    "    scaler = MinMaxScaler(feature_range=(-1, 1))\n",
    "    dates_scaled = scaler.fit_transform(df)\n",
    "    return dates_scaled"
   ]
  },
  {
   "cell_type": "code",
   "execution_count": 6,
   "metadata": {},
   "outputs": [],
   "source": [
    "from sklearn.base import BaseEstimator, TransformerMixin"
   ]
  },
  {
   "cell_type": "code",
   "execution_count": 7,
   "metadata": {},
   "outputs": [],
   "source": [
    "class NormalTime(BaseEstimator,TransformerMixin):\n",
    "    def __init__(self, _time=True):\n",
    "        self._time = _time\n",
    "        \n",
    "    def present(self,x):\n",
    "        updated = x.str.starts_with('2019-')\n",
    "        return updated\n",
    "    \n",
    "    def fit(self,x,y=None):\n",
    "        return self\n",
    "        \n",
    "    def transform(self,x,y=None):\n",
    "        df = pd.DataFrame(x)\n",
    "        if self._time:\n",
    "            y = pd.to_datetime(df.stack()).unstack()\n",
    "            y = pd.DataFrame(y)\n",
    "            y = y.apply(convert_to_timestamp)\n",
    "            i = normalize(y)\n",
    "            return i\n",
    "    \n",
    "        "
   ]
  },
  {
   "cell_type": "code",
   "execution_count": 8,
   "metadata": {},
   "outputs": [],
   "source": [
    "class NumsOnly(BaseEstimator,TransformerMixin):\n",
    "    def fit(self,x,y=None):\n",
    "        return self\n",
    "    \n",
    "    def transform(self,x,y=None):\n",
    "        x = x.drop(columns='store_and_fwd_flag')\n",
    "        return x"
   ]
  },
  {
   "cell_type": "code",
   "execution_count": 9,
   "metadata": {},
   "outputs": [],
   "source": [
    "from sklearn.compose import ColumnTransformer\n",
    "\n",
    "pipeline = ColumnTransformer([\n",
    "    ('time',NormalTime(),[1,2]),('flag',NumsOnly(),[6])],remainder='passthrough') "
   ]
  },
  {
   "cell_type": "code",
   "execution_count": 10,
   "metadata": {},
   "outputs": [],
   "source": [
    "taxi = taxi[taxi['tip_amount']>=0]\n",
    "taxi = taxi[taxi['total_amount']>=0]\n",
    "taxi_1 = taxi_1[taxi_1['tip_amount']>=0]\n",
    "taxi_1 = taxi_1[taxi_1['total_amount']>=0]\n",
    "taxi_2 = taxi_2[taxi_2['tip_amount']>=0]\n",
    "taxi_2 = taxi_2[taxi_2['total_amount']>=0]"
   ]
  },
  {
   "cell_type": "code",
   "execution_count": 11,
   "metadata": {},
   "outputs": [],
   "source": [
    "from sklearn.model_selection import train_test_split\n",
    "train_set, test_set = train_test_split(taxi, train_size=.6,test_size=.2,random_state=42)"
   ]
  },
  {
   "cell_type": "code",
   "execution_count": 12,
   "metadata": {},
   "outputs": [],
   "source": [
    "train_label = train_set.iloc[:,13]\n",
    "train_set_ = train_set.drop(columns= 'tip_amount')"
   ]
  },
  {
   "cell_type": "code",
   "execution_count": 13,
   "metadata": {},
   "outputs": [],
   "source": [
    "taxi_1_label = taxi_1.iloc[:,13]\n",
    "taxi_1_test = taxi_1.drop(columns='tip_amount')\n",
    "taxi_2_label = taxi_2.iloc[:,13]\n",
    "taxi_2_test = taxi_2.drop(columns='tip_amount')"
   ]
  },
  {
   "cell_type": "markdown",
   "metadata": {},
   "source": [
    "For this upload, I specifically chose to not split the data for May and June to simulate what an implimented version would look like. Meaning the model is behaving as if it were trained in April, and taking in the new data at random."
   ]
  },
  {
   "cell_type": "code",
   "execution_count": 14,
   "metadata": {
    "scrolled": true
   },
   "outputs": [
    {
     "name": "stderr",
     "output_type": "stream",
     "text": [
      "/Users/myles/anaconda3/lib/python3.7/site-packages/sklearn/preprocessing/data.py:334: DataConversionWarning: Data with input dtype datetime64[ns] were all converted to float64 by MinMaxScaler.\n",
      "  return self.partial_fit(X, y)\n",
      "/Users/myles/anaconda3/lib/python3.7/site-packages/sklearn/preprocessing/data.py:334: DataConversionWarning: Data with input dtype datetime64[ns] were all converted to float64 by MinMaxScaler.\n",
      "  return self.partial_fit(X, y)\n",
      "/Users/myles/anaconda3/lib/python3.7/site-packages/sklearn/preprocessing/data.py:334: DataConversionWarning: Data with input dtype datetime64[ns] were all converted to float64 by MinMaxScaler.\n",
      "  return self.partial_fit(X, y)\n"
     ]
    }
   ],
   "source": [
    "prepared = pipeline.fit_transform(train_set_)\n",
    "prepared_1 = pipeline.fit_transform(taxi_1_test)\n",
    "prepared_2 = pipeline.fit_transform(taxi_2_test)"
   ]
  },
  {
   "cell_type": "markdown",
   "metadata": {},
   "source": [
    "# Model Selection"
   ]
  },
  {
   "cell_type": "code",
   "execution_count": 15,
   "metadata": {},
   "outputs": [],
   "source": [
    "from sklearn import tree"
   ]
  },
  {
   "cell_type": "code",
   "execution_count": 16,
   "metadata": {},
   "outputs": [],
   "source": [
    "tr = tree.DecisionTreeRegressor(random_state=42)"
   ]
  },
  {
   "cell_type": "code",
   "execution_count": 17,
   "metadata": {
    "scrolled": false
   },
   "outputs": [],
   "source": [
    "reg = tr.fit(prepared,train_label)"
   ]
  },
  {
   "cell_type": "code",
   "execution_count": 18,
   "metadata": {},
   "outputs": [],
   "source": [
    "test_label = test_set.iloc[:,13]\n",
    "new_test = test_set.drop(columns ='tip_amount')"
   ]
  },
  {
   "cell_type": "code",
   "execution_count": 19,
   "metadata": {},
   "outputs": [
    {
     "name": "stderr",
     "output_type": "stream",
     "text": [
      "/Users/myles/anaconda3/lib/python3.7/site-packages/sklearn/preprocessing/data.py:334: DataConversionWarning: Data with input dtype datetime64[ns] were all converted to float64 by MinMaxScaler.\n",
      "  return self.partial_fit(X, y)\n"
     ]
    }
   ],
   "source": [
    "new_prepared = pipeline.fit_transform(new_test)"
   ]
  },
  {
   "cell_type": "code",
   "execution_count": 20,
   "metadata": {},
   "outputs": [],
   "source": [
    "predictions = reg.predict(new_prepared)"
   ]
  },
  {
   "cell_type": "code",
   "execution_count": 21,
   "metadata": {},
   "outputs": [],
   "source": [
    "predictions_1 = reg.predict(prepared_1)"
   ]
  },
  {
   "cell_type": "code",
   "execution_count": 22,
   "metadata": {},
   "outputs": [],
   "source": [
    "predictions_2 = reg.predict(prepared_2)"
   ]
  },
  {
   "cell_type": "code",
   "execution_count": 23,
   "metadata": {},
   "outputs": [],
   "source": [
    "from sklearn.metrics import mean_squared_error as mse"
   ]
  },
  {
   "cell_type": "code",
   "execution_count": 24,
   "metadata": {},
   "outputs": [],
   "source": [
    "April = mse(test_label,predictions)"
   ]
  },
  {
   "cell_type": "code",
   "execution_count": 26,
   "metadata": {
    "scrolled": true
   },
   "outputs": [],
   "source": [
    "May = mse(taxi_1_label,predictions_1)"
   ]
  },
  {
   "cell_type": "code",
   "execution_count": 27,
   "metadata": {},
   "outputs": [],
   "source": [
    "June = mse(taxi_2_label,predictions_2)"
   ]
  },
  {
   "cell_type": "code",
   "execution_count": 54,
   "metadata": {
    "scrolled": true
   },
   "outputs": [
    {
     "name": "stdout",
     "output_type": "stream",
     "text": [
      "April: 0.30617150003677646\n",
      "May: 0.34108081119815975\n",
      "June: 0.7233588346133916\n"
     ]
    }
   ],
   "source": [
    "print('April: '+ str(np.sqrt(April)))\n",
    "print('May: '+ str(np.sqrt(May)))\n",
    "print('June: '+ str(np.sqrt(June)))"
   ]
  },
  {
   "cell_type": "markdown",
   "metadata": {},
   "source": [
    "So the rmse more than doubles from May to June. Let's visualize these scores to get a better understanding of the results."
   ]
  },
  {
   "cell_type": "code",
   "execution_count": 55,
   "metadata": {},
   "outputs": [],
   "source": [
    "April_score = pd.DataFrame(predictions,test_label)\n",
    "May_score = pd.DataFrame(predictions_1,taxi_1_label)\n",
    "June_score = pd.DataFrame(predictions_2,taxi_2_label)\n",
    "\n",
    "df = [April_score,May_score,June_score]\n",
    "scores = pd.concat(df,axis=0)"
   ]
  },
  {
   "cell_type": "code",
   "execution_count": 56,
   "metadata": {},
   "outputs": [],
   "source": [
    "scores['Label'] = scores.index"
   ]
  },
  {
   "cell_type": "code",
   "execution_count": 57,
   "metadata": {},
   "outputs": [],
   "source": [
    "scores = scores.reset_index(drop=True)"
   ]
  },
  {
   "cell_type": "code",
   "execution_count": 58,
   "metadata": {},
   "outputs": [],
   "source": [
    "cols = ['Predictions','Label']\n",
    "scores.columns = cols"
   ]
  },
  {
   "cell_type": "code",
   "execution_count": 59,
   "metadata": {
    "scrolled": true
   },
   "outputs": [
    {
     "data": {
      "text/html": [
       "<div>\n",
       "<style scoped>\n",
       "    .dataframe tbody tr th:only-of-type {\n",
       "        vertical-align: middle;\n",
       "    }\n",
       "\n",
       "    .dataframe tbody tr th {\n",
       "        vertical-align: top;\n",
       "    }\n",
       "\n",
       "    .dataframe thead th {\n",
       "        text-align: right;\n",
       "    }\n",
       "</style>\n",
       "<table border=\"1\" class=\"dataframe\">\n",
       "  <thead>\n",
       "    <tr style=\"text-align: right;\">\n",
       "      <th></th>\n",
       "      <th>Predictions</th>\n",
       "      <th>Label</th>\n",
       "    </tr>\n",
       "  </thead>\n",
       "  <tbody>\n",
       "    <tr>\n",
       "      <th>0</th>\n",
       "      <td>5.06</td>\n",
       "      <td>5.06</td>\n",
       "    </tr>\n",
       "    <tr>\n",
       "      <th>1</th>\n",
       "      <td>0.00</td>\n",
       "      <td>0.00</td>\n",
       "    </tr>\n",
       "    <tr>\n",
       "      <th>2</th>\n",
       "      <td>0.00</td>\n",
       "      <td>0.00</td>\n",
       "    </tr>\n",
       "    <tr>\n",
       "      <th>3</th>\n",
       "      <td>3.99</td>\n",
       "      <td>3.99</td>\n",
       "    </tr>\n",
       "    <tr>\n",
       "      <th>4</th>\n",
       "      <td>2.25</td>\n",
       "      <td>2.25</td>\n",
       "    </tr>\n",
       "    <tr>\n",
       "      <th>...</th>\n",
       "      <td>...</td>\n",
       "      <td>...</td>\n",
       "    </tr>\n",
       "    <tr>\n",
       "      <th>15962849</th>\n",
       "      <td>2.00</td>\n",
       "      <td>2.00</td>\n",
       "    </tr>\n",
       "    <tr>\n",
       "      <th>15962850</th>\n",
       "      <td>0.00</td>\n",
       "      <td>0.00</td>\n",
       "    </tr>\n",
       "    <tr>\n",
       "      <th>15962851</th>\n",
       "      <td>1.45</td>\n",
       "      <td>1.45</td>\n",
       "    </tr>\n",
       "    <tr>\n",
       "      <th>15962852</th>\n",
       "      <td>2.26</td>\n",
       "      <td>2.26</td>\n",
       "    </tr>\n",
       "    <tr>\n",
       "      <th>15962853</th>\n",
       "      <td>1.00</td>\n",
       "      <td>1.00</td>\n",
       "    </tr>\n",
       "  </tbody>\n",
       "</table>\n",
       "<p>15962854 rows × 2 columns</p>\n",
       "</div>"
      ],
      "text/plain": [
       "          Predictions  Label\n",
       "0                5.06   5.06\n",
       "1                0.00   0.00\n",
       "2                0.00   0.00\n",
       "3                3.99   3.99\n",
       "4                2.25   2.25\n",
       "...               ...    ...\n",
       "15962849         2.00   2.00\n",
       "15962850         0.00   0.00\n",
       "15962851         1.45   1.45\n",
       "15962852         2.26   2.26\n",
       "15962853         1.00   1.00\n",
       "\n",
       "[15962854 rows x 2 columns]"
      ]
     },
     "execution_count": 59,
     "metadata": {},
     "output_type": "execute_result"
    }
   ],
   "source": [
    "scores = scores.round(decimals=2)\n",
    "scores"
   ]
  },
  {
   "cell_type": "code",
   "execution_count": 60,
   "metadata": {},
   "outputs": [],
   "source": [
    "scores['correct'] = scores['Label'] == scores['Predictions']"
   ]
  },
  {
   "cell_type": "markdown",
   "metadata": {},
   "source": [
    "As in the previous upload, I'm setting a y limit so that we can see the data that matters."
   ]
  },
  {
   "cell_type": "code",
   "execution_count": 61,
   "metadata": {},
   "outputs": [
    {
     "data": {
      "text/plain": [
       "(-5, 20)"
      ]
     },
     "execution_count": 61,
     "metadata": {},
     "output_type": "execute_result"
    },
    {
     "data": {
      "image/png": "[encoded data removed]",
      "text/plain": [
       "<Figure size 1080x720 with 1 Axes>"
      ]
     },
     "metadata": {},
     "output_type": "display_data"
    }
   ],
   "source": [
    "sns.set(rc={'figure.figsize':(15,10)},font_scale=1.5)\n",
    "sns.violinplot(x='correct',y='Predictions',data=scores, inner=\"box\")\n",
    "plt.ylim(-5,20)"
   ]
  },
  {
   "cell_type": "code",
   "execution_count": 62,
   "metadata": {},
   "outputs": [
    {
     "data": {
      "text/html": [
       "<div>\n",
       "<style scoped>\n",
       "    .dataframe tbody tr th:only-of-type {\n",
       "        vertical-align: middle;\n",
       "    }\n",
       "\n",
       "    .dataframe tbody tr th {\n",
       "        vertical-align: top;\n",
       "    }\n",
       "\n",
       "    .dataframe thead th {\n",
       "        text-align: right;\n",
       "    }\n",
       "</style>\n",
       "<table border=\"1\" class=\"dataframe\">\n",
       "  <thead>\n",
       "    <tr style=\"text-align: right;\">\n",
       "      <th></th>\n",
       "      <th>Predictions</th>\n",
       "      <th>Label</th>\n",
       "    </tr>\n",
       "  </thead>\n",
       "  <tbody>\n",
       "    <tr>\n",
       "      <th>count</th>\n",
       "      <td>597115.000000</td>\n",
       "      <td>597115.000000</td>\n",
       "    </tr>\n",
       "    <tr>\n",
       "      <th>mean</th>\n",
       "      <td>3.922046</td>\n",
       "      <td>4.277722</td>\n",
       "    </tr>\n",
       "    <tr>\n",
       "      <th>std</th>\n",
       "      <td>6.544262</td>\n",
       "      <td>6.910674</td>\n",
       "    </tr>\n",
       "    <tr>\n",
       "      <th>min</th>\n",
       "      <td>0.000000</td>\n",
       "      <td>0.000000</td>\n",
       "    </tr>\n",
       "    <tr>\n",
       "      <th>25%</th>\n",
       "      <td>1.250000</td>\n",
       "      <td>1.760000</td>\n",
       "    </tr>\n",
       "    <tr>\n",
       "      <th>50%</th>\n",
       "      <td>1.580000</td>\n",
       "      <td>2.460000</td>\n",
       "    </tr>\n",
       "    <tr>\n",
       "      <th>75%</th>\n",
       "      <td>4.000000</td>\n",
       "      <td>3.990000</td>\n",
       "    </tr>\n",
       "    <tr>\n",
       "      <th>max</th>\n",
       "      <td>333.200000</td>\n",
       "      <td>1624.640000</td>\n",
       "    </tr>\n",
       "  </tbody>\n",
       "</table>\n",
       "</div>"
      ],
      "text/plain": [
       "         Predictions          Label\n",
       "count  597115.000000  597115.000000\n",
       "mean        3.922046       4.277722\n",
       "std         6.544262       6.910674\n",
       "min         0.000000       0.000000\n",
       "25%         1.250000       1.760000\n",
       "50%         1.580000       2.460000\n",
       "75%         4.000000       3.990000\n",
       "max       333.200000    1624.640000"
      ]
     },
     "execution_count": 62,
     "metadata": {},
     "output_type": "execute_result"
    }
   ],
   "source": [
    "wrong = scores[scores['correct']==False]"
   ]
  },
  {
   "cell_type": "code",
   "execution_count": 64,
   "metadata": {
    "scrolled": true
   },
   "outputs": [
    {
     "data": {
      "text/plain": [
       "count       0.000000\n",
       "mean       -0.355677\n",
       "std        -0.366412\n",
       "min         0.000000\n",
       "25%        -0.510000\n",
       "50%        -0.880000\n",
       "75%         0.010000\n",
       "max     -1291.440000\n",
       "dtype: float64"
      ]
     },
     "execution_count": 64,
     "metadata": {},
     "output_type": "execute_result"
    }
   ],
   "source": [
    "x = wrong.describe()\n",
    "y = x['Predictions'] - x['Label']\n",
    "y"
   ]
  },
  {
   "cell_type": "markdown",
   "metadata": {},
   "source": [
    "So the predictions fall below the Lablel. This isn't worst case considering we're predicting a random amount like tip, and going over would give us false expectations. With the predictions below (on average) by 35 cents, we're at least near the dollar amount we want. \n",
    "\n",
    "To deploy this model, it would be best to use it's refit method to cope with incoming data creating someting of a 'rolling' data set. This would allow us to have a set of one months time continously fitted to keep up preformance."
   ]
  }
 ],
 "metadata": {
  "kernelspec": {
   "display_name": "Python 3",
   "language": "python",
   "name": "python3"
  },
  "language_info": {
   "codemirror_mode": {
    "name": "ipython",
    "version": 3
   },
   "file_extension": ".py",
   "mimetype": "text/x-python",
   "name": "python",
   "nbconvert_exporter": "python",
   "pygments_lexer": "ipython3",
   "version": "3.7.3"
  }
 },
 "nbformat": 4,
 "nbformat_minor": 2
}
