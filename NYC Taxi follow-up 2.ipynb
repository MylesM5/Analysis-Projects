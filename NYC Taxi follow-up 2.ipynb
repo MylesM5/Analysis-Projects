{
 "cells": [
  {
   "cell_type": "markdown",
   "metadata": {},
   "source": [
    "# Predicting Tips for NYC Yellow Taxi Rides - Follow Up 2"
   ]
  },
  {
   "cell_type": "markdown",
   "metadata": {},
   "source": [
    "In this second follow up I wanted to explore more options in selecting a Model. Initially, the Decision Tree Regressor was set to defualt, and it handled the data quite well. Here I'm going to experiment with the tree's max depth to see if we can make any improvements."
   ]
  },
  {
   "cell_type": "code",
   "execution_count": 1,
   "metadata": {},
   "outputs": [],
   "source": [
    "import pandas as pd\n",
    "import numpy as np\n",
    "import seaborn as sns\n",
    "import matplotlib.pyplot as plt\n",
    "from datetime import datetime\n",
    "import time as t"
   ]
  },
  {
   "cell_type": "code",
   "execution_count": 2,
   "metadata": {},
   "outputs": [],
   "source": [
    "taxi = pd.read_csv('yellow_tripdata_2019-06.csv')"
   ]
  },
  {
   "cell_type": "code",
   "execution_count": 3,
   "metadata": {
    "scrolled": true
   },
   "outputs": [
    {
     "data": {
      "text/html": [
       "<div>\n",
       "<style scoped>\n",
       "    .dataframe tbody tr th:only-of-type {\n",
       "        vertical-align: middle;\n",
       "    }\n",
       "\n",
       "    .dataframe tbody tr th {\n",
       "        vertical-align: top;\n",
       "    }\n",
       "\n",
       "    .dataframe thead th {\n",
       "        text-align: right;\n",
       "    }\n",
       "</style>\n",
       "<table border=\"1\" class=\"dataframe\">\n",
       "  <thead>\n",
       "    <tr style=\"text-align: right;\">\n",
       "      <th></th>\n",
       "      <th>VendorID</th>\n",
       "      <th>tpep_pickup_datetime</th>\n",
       "      <th>tpep_dropoff_datetime</th>\n",
       "      <th>passenger_count</th>\n",
       "      <th>trip_distance</th>\n",
       "      <th>RatecodeID</th>\n",
       "      <th>store_and_fwd_flag</th>\n",
       "      <th>PULocationID</th>\n",
       "      <th>DOLocationID</th>\n",
       "      <th>payment_type</th>\n",
       "      <th>fare_amount</th>\n",
       "      <th>extra</th>\n",
       "      <th>mta_tax</th>\n",
       "      <th>tip_amount</th>\n",
       "      <th>tolls_amount</th>\n",
       "      <th>improvement_surcharge</th>\n",
       "      <th>total_amount</th>\n",
       "      <th>congestion_surcharge</th>\n",
       "    </tr>\n",
       "  </thead>\n",
       "  <tbody>\n",
       "    <tr>\n",
       "      <th>0</th>\n",
       "      <td>1</td>\n",
       "      <td>2019-06-01 00:55:13</td>\n",
       "      <td>2019-06-01 00:56:17</td>\n",
       "      <td>1</td>\n",
       "      <td>0.0</td>\n",
       "      <td>1</td>\n",
       "      <td>N</td>\n",
       "      <td>145</td>\n",
       "      <td>145</td>\n",
       "      <td>2</td>\n",
       "      <td>3.0</td>\n",
       "      <td>0.5</td>\n",
       "      <td>0.5</td>\n",
       "      <td>0.00</td>\n",
       "      <td>0.0</td>\n",
       "      <td>0.3</td>\n",
       "      <td>4.30</td>\n",
       "      <td>0.0</td>\n",
       "    </tr>\n",
       "    <tr>\n",
       "      <th>1</th>\n",
       "      <td>1</td>\n",
       "      <td>2019-06-01 00:06:31</td>\n",
       "      <td>2019-06-01 00:06:52</td>\n",
       "      <td>1</td>\n",
       "      <td>0.0</td>\n",
       "      <td>1</td>\n",
       "      <td>N</td>\n",
       "      <td>262</td>\n",
       "      <td>263</td>\n",
       "      <td>2</td>\n",
       "      <td>2.5</td>\n",
       "      <td>3.0</td>\n",
       "      <td>0.5</td>\n",
       "      <td>0.00</td>\n",
       "      <td>0.0</td>\n",
       "      <td>0.3</td>\n",
       "      <td>6.30</td>\n",
       "      <td>2.5</td>\n",
       "    </tr>\n",
       "    <tr>\n",
       "      <th>2</th>\n",
       "      <td>1</td>\n",
       "      <td>2019-06-01 00:17:05</td>\n",
       "      <td>2019-06-01 00:36:38</td>\n",
       "      <td>1</td>\n",
       "      <td>4.4</td>\n",
       "      <td>1</td>\n",
       "      <td>N</td>\n",
       "      <td>74</td>\n",
       "      <td>7</td>\n",
       "      <td>2</td>\n",
       "      <td>17.5</td>\n",
       "      <td>0.5</td>\n",
       "      <td>0.5</td>\n",
       "      <td>0.00</td>\n",
       "      <td>0.0</td>\n",
       "      <td>0.3</td>\n",
       "      <td>18.80</td>\n",
       "      <td>0.0</td>\n",
       "    </tr>\n",
       "    <tr>\n",
       "      <th>3</th>\n",
       "      <td>1</td>\n",
       "      <td>2019-06-01 00:59:02</td>\n",
       "      <td>2019-06-01 00:59:12</td>\n",
       "      <td>0</td>\n",
       "      <td>0.8</td>\n",
       "      <td>1</td>\n",
       "      <td>N</td>\n",
       "      <td>145</td>\n",
       "      <td>145</td>\n",
       "      <td>2</td>\n",
       "      <td>2.5</td>\n",
       "      <td>1.0</td>\n",
       "      <td>0.5</td>\n",
       "      <td>0.00</td>\n",
       "      <td>0.0</td>\n",
       "      <td>0.3</td>\n",
       "      <td>4.30</td>\n",
       "      <td>0.0</td>\n",
       "    </tr>\n",
       "    <tr>\n",
       "      <th>4</th>\n",
       "      <td>1</td>\n",
       "      <td>2019-06-01 00:03:25</td>\n",
       "      <td>2019-06-01 00:15:42</td>\n",
       "      <td>1</td>\n",
       "      <td>1.7</td>\n",
       "      <td>1</td>\n",
       "      <td>N</td>\n",
       "      <td>113</td>\n",
       "      <td>148</td>\n",
       "      <td>1</td>\n",
       "      <td>9.5</td>\n",
       "      <td>3.0</td>\n",
       "      <td>0.5</td>\n",
       "      <td>2.65</td>\n",
       "      <td>0.0</td>\n",
       "      <td>0.3</td>\n",
       "      <td>15.95</td>\n",
       "      <td>2.5</td>\n",
       "    </tr>\n",
       "  </tbody>\n",
       "</table>\n",
       "</div>"
      ],
      "text/plain": [
       "   VendorID tpep_pickup_datetime tpep_dropoff_datetime  passenger_count  \\\n",
       "0         1  2019-06-01 00:55:13   2019-06-01 00:56:17                1   \n",
       "1         1  2019-06-01 00:06:31   2019-06-01 00:06:52                1   \n",
       "2         1  2019-06-01 00:17:05   2019-06-01 00:36:38                1   \n",
       "3         1  2019-06-01 00:59:02   2019-06-01 00:59:12                0   \n",
       "4         1  2019-06-01 00:03:25   2019-06-01 00:15:42                1   \n",
       "\n",
       "   trip_distance  RatecodeID store_and_fwd_flag  PULocationID  DOLocationID  \\\n",
       "0            0.0           1                  N           145           145   \n",
       "1            0.0           1                  N           262           263   \n",
       "2            4.4           1                  N            74             7   \n",
       "3            0.8           1                  N           145           145   \n",
       "4            1.7           1                  N           113           148   \n",
       "\n",
       "   payment_type  fare_amount  extra  mta_tax  tip_amount  tolls_amount  \\\n",
       "0             2          3.0    0.5      0.5        0.00           0.0   \n",
       "1             2          2.5    3.0      0.5        0.00           0.0   \n",
       "2             2         17.5    0.5      0.5        0.00           0.0   \n",
       "3             2          2.5    1.0      0.5        0.00           0.0   \n",
       "4             1          9.5    3.0      0.5        2.65           0.0   \n",
       "\n",
       "   improvement_surcharge  total_amount  congestion_surcharge  \n",
       "0                    0.3          4.30                   0.0  \n",
       "1                    0.3          6.30                   2.5  \n",
       "2                    0.3         18.80                   0.0  \n",
       "3                    0.3          4.30                   0.0  \n",
       "4                    0.3         15.95                   2.5  "
      ]
     },
     "execution_count": 3,
     "metadata": {},
     "output_type": "execute_result"
    }
   ],
   "source": [
    "taxi.head()"
   ]
  },
  {
   "cell_type": "code",
   "execution_count": 4,
   "metadata": {},
   "outputs": [
    {
     "data": {
      "text/html": [
       "<div>\n",
       "<style scoped>\n",
       "    .dataframe tbody tr th:only-of-type {\n",
       "        vertical-align: middle;\n",
       "    }\n",
       "\n",
       "    .dataframe tbody tr th {\n",
       "        vertical-align: top;\n",
       "    }\n",
       "\n",
       "    .dataframe thead th {\n",
       "        text-align: right;\n",
       "    }\n",
       "</style>\n",
       "<table border=\"1\" class=\"dataframe\">\n",
       "  <thead>\n",
       "    <tr style=\"text-align: right;\">\n",
       "      <th></th>\n",
       "      <th>VendorID</th>\n",
       "      <th>passenger_count</th>\n",
       "      <th>trip_distance</th>\n",
       "      <th>RatecodeID</th>\n",
       "      <th>PULocationID</th>\n",
       "      <th>DOLocationID</th>\n",
       "      <th>payment_type</th>\n",
       "      <th>fare_amount</th>\n",
       "      <th>extra</th>\n",
       "      <th>mta_tax</th>\n",
       "      <th>tip_amount</th>\n",
       "      <th>tolls_amount</th>\n",
       "      <th>improvement_surcharge</th>\n",
       "      <th>total_amount</th>\n",
       "      <th>congestion_surcharge</th>\n",
       "    </tr>\n",
       "  </thead>\n",
       "  <tbody>\n",
       "    <tr>\n",
       "      <th>count</th>\n",
       "      <td>6.941024e+06</td>\n",
       "      <td>6.941024e+06</td>\n",
       "      <td>6.941024e+06</td>\n",
       "      <td>6.941024e+06</td>\n",
       "      <td>6.941024e+06</td>\n",
       "      <td>6.941024e+06</td>\n",
       "      <td>6.941024e+06</td>\n",
       "      <td>6.941024e+06</td>\n",
       "      <td>6.941024e+06</td>\n",
       "      <td>6.941024e+06</td>\n",
       "      <td>6.941024e+06</td>\n",
       "      <td>6.941024e+06</td>\n",
       "      <td>6.941024e+06</td>\n",
       "      <td>6.941024e+06</td>\n",
       "      <td>6.941024e+06</td>\n",
       "    </tr>\n",
       "    <tr>\n",
       "      <th>mean</th>\n",
       "      <td>1.642546e+00</td>\n",
       "      <td>1.567322e+00</td>\n",
       "      <td>3.078505e+00</td>\n",
       "      <td>1.059386e+00</td>\n",
       "      <td>1.623034e+02</td>\n",
       "      <td>1.608204e+02</td>\n",
       "      <td>1.292040e+00</td>\n",
       "      <td>1.366414e+01</td>\n",
       "      <td>1.164652e+00</td>\n",
       "      <td>4.950010e-01</td>\n",
       "      <td>2.265934e+00</td>\n",
       "      <td>4.061977e-01</td>\n",
       "      <td>2.984860e-01</td>\n",
       "      <td>1.974127e+01</td>\n",
       "      <td>2.274467e+00</td>\n",
       "    </tr>\n",
       "    <tr>\n",
       "      <th>std</th>\n",
       "      <td>5.018739e-01</td>\n",
       "      <td>1.210831e+00</td>\n",
       "      <td>1.790048e+01</td>\n",
       "      <td>7.349947e-01</td>\n",
       "      <td>6.638413e+01</td>\n",
       "      <td>7.046478e+01</td>\n",
       "      <td>4.809936e-01</td>\n",
       "      <td>1.323297e+02</td>\n",
       "      <td>1.275345e+00</td>\n",
       "      <td>1.008513e-01</td>\n",
       "      <td>2.962398e+00</td>\n",
       "      <td>1.797505e+00</td>\n",
       "      <td>2.854512e-02</td>\n",
       "      <td>1.326798e+02</td>\n",
       "      <td>7.289606e-01</td>\n",
       "    </tr>\n",
       "    <tr>\n",
       "      <th>min</th>\n",
       "      <td>1.000000e+00</td>\n",
       "      <td>0.000000e+00</td>\n",
       "      <td>0.000000e+00</td>\n",
       "      <td>1.000000e+00</td>\n",
       "      <td>1.000000e+00</td>\n",
       "      <td>1.000000e+00</td>\n",
       "      <td>1.000000e+00</td>\n",
       "      <td>-3.050000e+02</td>\n",
       "      <td>-2.650000e+01</td>\n",
       "      <td>-5.000000e-01</td>\n",
       "      <td>-8.888000e+01</td>\n",
       "      <td>-3.974000e+01</td>\n",
       "      <td>-3.000000e-01</td>\n",
       "      <td>-3.058000e+02</td>\n",
       "      <td>-2.500000e+00</td>\n",
       "    </tr>\n",
       "    <tr>\n",
       "      <th>25%</th>\n",
       "      <td>1.000000e+00</td>\n",
       "      <td>1.000000e+00</td>\n",
       "      <td>1.000000e+00</td>\n",
       "      <td>1.000000e+00</td>\n",
       "      <td>1.140000e+02</td>\n",
       "      <td>1.070000e+02</td>\n",
       "      <td>1.000000e+00</td>\n",
       "      <td>6.500000e+00</td>\n",
       "      <td>0.000000e+00</td>\n",
       "      <td>5.000000e-01</td>\n",
       "      <td>0.000000e+00</td>\n",
       "      <td>0.000000e+00</td>\n",
       "      <td>3.000000e-01</td>\n",
       "      <td>1.130000e+01</td>\n",
       "      <td>2.500000e+00</td>\n",
       "    </tr>\n",
       "    <tr>\n",
       "      <th>50%</th>\n",
       "      <td>2.000000e+00</td>\n",
       "      <td>1.000000e+00</td>\n",
       "      <td>1.680000e+00</td>\n",
       "      <td>1.000000e+00</td>\n",
       "      <td>1.610000e+02</td>\n",
       "      <td>1.620000e+02</td>\n",
       "      <td>1.000000e+00</td>\n",
       "      <td>9.500000e+00</td>\n",
       "      <td>5.000000e-01</td>\n",
       "      <td>5.000000e-01</td>\n",
       "      <td>1.950000e+00</td>\n",
       "      <td>0.000000e+00</td>\n",
       "      <td>3.000000e-01</td>\n",
       "      <td>1.480000e+01</td>\n",
       "      <td>2.500000e+00</td>\n",
       "    </tr>\n",
       "    <tr>\n",
       "      <th>75%</th>\n",
       "      <td>2.000000e+00</td>\n",
       "      <td>2.000000e+00</td>\n",
       "      <td>3.140000e+00</td>\n",
       "      <td>1.000000e+00</td>\n",
       "      <td>2.330000e+02</td>\n",
       "      <td>2.330000e+02</td>\n",
       "      <td>2.000000e+00</td>\n",
       "      <td>1.500000e+01</td>\n",
       "      <td>2.500000e+00</td>\n",
       "      <td>5.000000e-01</td>\n",
       "      <td>3.000000e+00</td>\n",
       "      <td>0.000000e+00</td>\n",
       "      <td>3.000000e-01</td>\n",
       "      <td>2.130000e+01</td>\n",
       "      <td>2.500000e+00</td>\n",
       "    </tr>\n",
       "    <tr>\n",
       "      <th>max</th>\n",
       "      <td>4.000000e+00</td>\n",
       "      <td>9.000000e+00</td>\n",
       "      <td>4.597722e+04</td>\n",
       "      <td>9.900000e+01</td>\n",
       "      <td>2.650000e+02</td>\n",
       "      <td>2.650000e+02</td>\n",
       "      <td>4.000000e+00</td>\n",
       "      <td>3.469500e+05</td>\n",
       "      <td>8.476000e+01</td>\n",
       "      <td>2.124200e+02</td>\n",
       "      <td>1.624640e+03</td>\n",
       "      <td>8.230000e+02</td>\n",
       "      <td>3.000000e-01</td>\n",
       "      <td>3.470350e+05</td>\n",
       "      <td>2.750000e+00</td>\n",
       "    </tr>\n",
       "  </tbody>\n",
       "</table>\n",
       "</div>"
      ],
      "text/plain": [
       "           VendorID  passenger_count  trip_distance    RatecodeID  \\\n",
       "count  6.941024e+06     6.941024e+06   6.941024e+06  6.941024e+06   \n",
       "mean   1.642546e+00     1.567322e+00   3.078505e+00  1.059386e+00   \n",
       "std    5.018739e-01     1.210831e+00   1.790048e+01  7.349947e-01   \n",
       "min    1.000000e+00     0.000000e+00   0.000000e+00  1.000000e+00   \n",
       "25%    1.000000e+00     1.000000e+00   1.000000e+00  1.000000e+00   \n",
       "50%    2.000000e+00     1.000000e+00   1.680000e+00  1.000000e+00   \n",
       "75%    2.000000e+00     2.000000e+00   3.140000e+00  1.000000e+00   \n",
       "max    4.000000e+00     9.000000e+00   4.597722e+04  9.900000e+01   \n",
       "\n",
       "       PULocationID  DOLocationID  payment_type   fare_amount         extra  \\\n",
       "count  6.941024e+06  6.941024e+06  6.941024e+06  6.941024e+06  6.941024e+06   \n",
       "mean   1.623034e+02  1.608204e+02  1.292040e+00  1.366414e+01  1.164652e+00   \n",
       "std    6.638413e+01  7.046478e+01  4.809936e-01  1.323297e+02  1.275345e+00   \n",
       "min    1.000000e+00  1.000000e+00  1.000000e+00 -3.050000e+02 -2.650000e+01   \n",
       "25%    1.140000e+02  1.070000e+02  1.000000e+00  6.500000e+00  0.000000e+00   \n",
       "50%    1.610000e+02  1.620000e+02  1.000000e+00  9.500000e+00  5.000000e-01   \n",
       "75%    2.330000e+02  2.330000e+02  2.000000e+00  1.500000e+01  2.500000e+00   \n",
       "max    2.650000e+02  2.650000e+02  4.000000e+00  3.469500e+05  8.476000e+01   \n",
       "\n",
       "            mta_tax    tip_amount  tolls_amount  improvement_surcharge  \\\n",
       "count  6.941024e+06  6.941024e+06  6.941024e+06           6.941024e+06   \n",
       "mean   4.950010e-01  2.265934e+00  4.061977e-01           2.984860e-01   \n",
       "std    1.008513e-01  2.962398e+00  1.797505e+00           2.854512e-02   \n",
       "min   -5.000000e-01 -8.888000e+01 -3.974000e+01          -3.000000e-01   \n",
       "25%    5.000000e-01  0.000000e+00  0.000000e+00           3.000000e-01   \n",
       "50%    5.000000e-01  1.950000e+00  0.000000e+00           3.000000e-01   \n",
       "75%    5.000000e-01  3.000000e+00  0.000000e+00           3.000000e-01   \n",
       "max    2.124200e+02  1.624640e+03  8.230000e+02           3.000000e-01   \n",
       "\n",
       "       total_amount  congestion_surcharge  \n",
       "count  6.941024e+06          6.941024e+06  \n",
       "mean   1.974127e+01          2.274467e+00  \n",
       "std    1.326798e+02          7.289606e-01  \n",
       "min   -3.058000e+02         -2.500000e+00  \n",
       "25%    1.130000e+01          2.500000e+00  \n",
       "50%    1.480000e+01          2.500000e+00  \n",
       "75%    2.130000e+01          2.500000e+00  \n",
       "max    3.470350e+05          2.750000e+00  "
      ]
     },
     "execution_count": 4,
     "metadata": {},
     "output_type": "execute_result"
    }
   ],
   "source": [
    "taxi.describe()"
   ]
  },
  {
   "cell_type": "code",
   "execution_count": 5,
   "metadata": {},
   "outputs": [],
   "source": [
    "from sklearn.preprocessing import MinMaxScaler\n",
    "\n",
    "def convert_to_timestamp(x):\n",
    "    for i in x:\n",
    "        t.mktime(i.timetuple())\n",
    "    return x\n",
    "def normalize(df):\n",
    "    scaler = MinMaxScaler(feature_range=(-1, 1))\n",
    "    dates_scaled = scaler.fit_transform(df)\n",
    "    return dates_scaled"
   ]
  },
  {
   "cell_type": "code",
   "execution_count": 6,
   "metadata": {},
   "outputs": [],
   "source": [
    "from sklearn.base import BaseEstimator, TransformerMixin"
   ]
  },
  {
   "cell_type": "code",
   "execution_count": 7,
   "metadata": {},
   "outputs": [],
   "source": [
    "class NormalTime(BaseEstimator,TransformerMixin):\n",
    "    def __init__(self, _time=True):\n",
    "        self._time = _time\n",
    "        \n",
    "    def present(self,x):\n",
    "        updated = x.str.starts_with('2019-')\n",
    "        return updated\n",
    "    \n",
    "    def fit(self,x,y=None):\n",
    "        return self\n",
    "        \n",
    "    def transform(self,x,y=None):\n",
    "        df = pd.DataFrame(x)\n",
    "        if self._time:\n",
    "            y = pd.to_datetime(df.stack()).unstack()\n",
    "            y = pd.DataFrame(y)\n",
    "            y = y.apply(convert_to_timestamp)\n",
    "            i = normalize(y)\n",
    "            return i\n",
    "    \n",
    "        "
   ]
  },
  {
   "cell_type": "code",
   "execution_count": 8,
   "metadata": {},
   "outputs": [],
   "source": [
    "class NumsOnly(BaseEstimator,TransformerMixin):\n",
    "    def fit(self,x,y=None):\n",
    "        return self\n",
    "    \n",
    "    def transform(self,x,y=None):\n",
    "        x = x.drop(columns='store_and_fwd_flag')\n",
    "        return x"
   ]
  },
  {
   "cell_type": "code",
   "execution_count": 9,
   "metadata": {},
   "outputs": [],
   "source": [
    "from sklearn.compose import ColumnTransformer\n",
    "\n",
    "pipeline = ColumnTransformer([\n",
    "    ('time',NormalTime(),[1,2]),('flag',NumsOnly(),[6])],remainder='passthrough') "
   ]
  },
  {
   "cell_type": "code",
   "execution_count": 10,
   "metadata": {},
   "outputs": [],
   "source": [
    "taxi = taxi[taxi['tip_amount']>=0]\n",
    "taxi = taxi[taxi['total_amount']>=0]"
   ]
  },
  {
   "cell_type": "code",
   "execution_count": 11,
   "metadata": {},
   "outputs": [],
   "source": [
    "from sklearn.model_selection import train_test_split\n",
    "train_set, test_set = train_test_split(taxi, train_size=.7,test_size=.3,random_state=42)"
   ]
  },
  {
   "cell_type": "code",
   "execution_count": 12,
   "metadata": {},
   "outputs": [],
   "source": [
    "train_label = train_set.iloc[:,13]\n",
    "train_set_ = train_set.drop(columns= 'tip_amount')"
   ]
  },
  {
   "cell_type": "code",
   "execution_count": 13,
   "metadata": {
    "scrolled": true
   },
   "outputs": [
    {
     "name": "stderr",
     "output_type": "stream",
     "text": [
      "/Users/myles/anaconda3/lib/python3.7/site-packages/sklearn/preprocessing/data.py:334: DataConversionWarning: Data with input dtype datetime64[ns] were all converted to float64 by MinMaxScaler.\n",
      "  return self.partial_fit(X, y)\n"
     ]
    }
   ],
   "source": [
    "prepared = pipeline.fit_transform(train_set_)"
   ]
  },
  {
   "cell_type": "code",
   "execution_count": 14,
   "metadata": {},
   "outputs": [],
   "source": [
    "from sklearn import tree"
   ]
  },
  {
   "cell_type": "code",
   "execution_count": 15,
   "metadata": {},
   "outputs": [],
   "source": [
    "test_label = test_set.iloc[:,13]\n",
    "new_test = test_set.drop(columns ='tip_amount')"
   ]
  },
  {
   "cell_type": "code",
   "execution_count": 16,
   "metadata": {},
   "outputs": [
    {
     "name": "stderr",
     "output_type": "stream",
     "text": [
      "/Users/myles/anaconda3/lib/python3.7/site-packages/sklearn/preprocessing/data.py:334: DataConversionWarning: Data with input dtype datetime64[ns] were all converted to float64 by MinMaxScaler.\n",
      "  return self.partial_fit(X, y)\n"
     ]
    }
   ],
   "source": [
    "new_prepared = pipeline.fit_transform(new_test)"
   ]
  },
  {
   "cell_type": "code",
   "execution_count": 31,
   "metadata": {},
   "outputs": [],
   "source": [
    "from sklearn.model_selection import GridSearchCV"
   ]
  },
  {
   "cell_type": "code",
   "execution_count": 37,
   "metadata": {},
   "outputs": [],
   "source": [
    "params = {'max_depth':[None,2,5,10,12,15,12,20,25,30],'random_state':[42]}"
   ]
  },
  {
   "cell_type": "code",
   "execution_count": 38,
   "metadata": {},
   "outputs": [],
   "source": [
    "reg = GridSearchCV(tree.DecisionTreeRegressor(),params,verbose=10)"
   ]
  },
  {
   "cell_type": "code",
   "execution_count": 39,
   "metadata": {},
   "outputs": [
    {
     "name": "stdout",
     "output_type": "stream",
     "text": [
      "Fitting 3 folds for each of 10 candidates, totalling 30 fits\n",
      "[CV] max_depth=None, random_state=42 .................................\n"
     ]
    },
    {
     "name": "stderr",
     "output_type": "stream",
     "text": [
      "[Parallel(n_jobs=1)]: Using backend SequentialBackend with 1 concurrent workers.\n"
     ]
    },
    {
     "name": "stdout",
     "output_type": "stream",
     "text": [
      "[CV]  max_depth=None, random_state=42, score=0.989288192893305, total=  35.9s\n",
      "[CV] max_depth=None, random_state=42 .................................\n"
     ]
    },
    {
     "name": "stderr",
     "output_type": "stream",
     "text": [
      "[Parallel(n_jobs=1)]: Done   1 out of   1 | elapsed:   36.6s remaining:    0.0s\n"
     ]
    },
    {
     "name": "stdout",
     "output_type": "stream",
     "text": [
      "[CV]  max_depth=None, random_state=42, score=0.7906128782126337, total=  36.6s\n",
      "[CV] max_depth=None, random_state=42 .................................\n"
     ]
    },
    {
     "name": "stderr",
     "output_type": "stream",
     "text": [
      "[Parallel(n_jobs=1)]: Done   2 out of   2 | elapsed:  1.2min remaining:    0.0s\n"
     ]
    },
    {
     "name": "stdout",
     "output_type": "stream",
     "text": [
      "[CV]  max_depth=None, random_state=42, score=0.8271727629837574, total=  36.9s\n",
      "[CV] max_depth=2, random_state=42 ....................................\n"
     ]
    },
    {
     "name": "stderr",
     "output_type": "stream",
     "text": [
      "[Parallel(n_jobs=1)]: Done   3 out of   3 | elapsed:  1.9min remaining:    0.0s\n"
     ]
    },
    {
     "name": "stdout",
     "output_type": "stream",
     "text": [
      "[CV]  max_depth=2, random_state=42, score=0.5097761288076395, total=   6.5s\n",
      "[CV] max_depth=2, random_state=42 ....................................\n"
     ]
    },
    {
     "name": "stderr",
     "output_type": "stream",
     "text": [
      "[Parallel(n_jobs=1)]: Done   4 out of   4 | elapsed:  2.0min remaining:    0.0s\n"
     ]
    },
    {
     "name": "stdout",
     "output_type": "stream",
     "text": [
      "[CV]  max_depth=2, random_state=42, score=0.31359865152490685, total=   6.5s\n",
      "[CV] max_depth=2, random_state=42 ....................................\n"
     ]
    },
    {
     "name": "stderr",
     "output_type": "stream",
     "text": [
      "[Parallel(n_jobs=1)]: Done   5 out of   5 | elapsed:  2.1min remaining:    0.0s\n"
     ]
    },
    {
     "name": "stdout",
     "output_type": "stream",
     "text": [
      "[CV]  max_depth=2, random_state=42, score=0.44767595166933294, total=   6.5s\n",
      "[CV] max_depth=5, random_state=42 ....................................\n"
     ]
    },
    {
     "name": "stderr",
     "output_type": "stream",
     "text": [
      "[Parallel(n_jobs=1)]: Done   6 out of   6 | elapsed:  2.2min remaining:    0.0s\n"
     ]
    },
    {
     "name": "stdout",
     "output_type": "stream",
     "text": [
      "[CV]  max_depth=5, random_state=42, score=0.7894008501221856, total=  13.8s\n",
      "[CV] max_depth=5, random_state=42 ....................................\n"
     ]
    },
    {
     "name": "stderr",
     "output_type": "stream",
     "text": [
      "[Parallel(n_jobs=1)]: Done   7 out of   7 | elapsed:  2.4min remaining:    0.0s\n"
     ]
    },
    {
     "name": "stdout",
     "output_type": "stream",
     "text": [
      "[CV]  max_depth=5, random_state=42, score=0.581376499475784, total=  13.8s\n",
      "[CV] max_depth=5, random_state=42 ....................................\n"
     ]
    },
    {
     "name": "stderr",
     "output_type": "stream",
     "text": [
      "[Parallel(n_jobs=1)]: Done   8 out of   8 | elapsed:  2.7min remaining:    0.0s\n"
     ]
    },
    {
     "name": "stdout",
     "output_type": "stream",
     "text": [
      "[CV]  max_depth=5, random_state=42, score=0.6748594378080769, total=  13.7s\n",
      "[CV] max_depth=10, random_state=42 ...................................\n"
     ]
    },
    {
     "name": "stderr",
     "output_type": "stream",
     "text": [
      "[Parallel(n_jobs=1)]: Done   9 out of   9 | elapsed:  2.9min remaining:    0.0s\n"
     ]
    },
    {
     "name": "stdout",
     "output_type": "stream",
     "text": [
      "[CV]  max_depth=10, random_state=42, score=0.9171070893981347, total=  22.9s\n",
      "[CV] max_depth=10, random_state=42 ...................................\n",
      "[CV]  max_depth=10, random_state=42, score=0.7251578266108746, total=  23.5s\n",
      "[CV] max_depth=10, random_state=42 ...................................\n",
      "[CV]  max_depth=10, random_state=42, score=0.775326396019135, total=  24.1s\n",
      "[CV] max_depth=12, random_state=42 ...................................\n",
      "[CV]  max_depth=12, random_state=42, score=0.9476195077276022, total=  26.3s\n",
      "[CV] max_depth=12, random_state=42 ...................................\n",
      "[CV]  max_depth=12, random_state=42, score=0.7514214149528726, total=  26.8s\n",
      "[CV] max_depth=12, random_state=42 ...................................\n",
      "[CV]  max_depth=12, random_state=42, score=0.798046859478243, total=  28.2s\n",
      "[CV] max_depth=15, random_state=42 ...................................\n",
      "[CV]  max_depth=15, random_state=42, score=0.9752419290073088, total=  31.0s\n",
      "[CV] max_depth=15, random_state=42 ...................................\n",
      "[CV]  max_depth=15, random_state=42, score=0.7769439596980757, total=  31.1s\n",
      "[CV] max_depth=15, random_state=42 ...................................\n",
      "[CV]  max_depth=15, random_state=42, score=0.8192601425271857, total=  31.4s\n",
      "[CV] max_depth=12, random_state=42 ...................................\n",
      "[CV]  max_depth=12, random_state=42, score=0.9476195077276022, total=  27.4s\n",
      "[CV] max_depth=12, random_state=42 ...................................\n",
      "[CV]  max_depth=12, random_state=42, score=0.7514214149528726, total=  27.6s\n",
      "[CV] max_depth=12, random_state=42 ...................................\n",
      "[CV]  max_depth=12, random_state=42, score=0.798046859478243, total=  26.9s\n",
      "[CV] max_depth=20, random_state=42 ...................................\n",
      "[CV]  max_depth=20, random_state=42, score=0.9889947288556761, total=  36.8s\n",
      "[CV] max_depth=20, random_state=42 ...................................\n",
      "[CV]  max_depth=20, random_state=42, score=0.78807481273842, total=  36.4s\n",
      "[CV] max_depth=20, random_state=42 ...................................\n",
      "[CV]  max_depth=20, random_state=42, score=0.8273562742229871, total=  35.5s\n",
      "[CV] max_depth=25, random_state=42 ...................................\n",
      "[CV]  max_depth=25, random_state=42, score=0.9880182901789858, total=  35.5s\n",
      "[CV] max_depth=25, random_state=42 ...................................\n",
      "[CV]  max_depth=25, random_state=42, score=0.7877956264661117, total=  36.8s\n",
      "[CV] max_depth=25, random_state=42 ...................................\n",
      "[CV]  max_depth=25, random_state=42, score=0.8274786354819295, total=  36.5s\n",
      "[CV] max_depth=30, random_state=42 ...................................\n",
      "[CV]  max_depth=30, random_state=42, score=0.9895152775445868, total=  35.7s\n",
      "[CV] max_depth=30, random_state=42 ...................................\n",
      "[CV]  max_depth=30, random_state=42, score=0.7889701607106689, total=  36.7s\n",
      "[CV] max_depth=30, random_state=42 ...................................\n",
      "[CV]  max_depth=30, random_state=42, score=0.822659247239226, total=  37.7s\n"
     ]
    },
    {
     "name": "stderr",
     "output_type": "stream",
     "text": [
      "[Parallel(n_jobs=1)]: Done  30 out of  30 | elapsed: 14.0min finished\n"
     ]
    },
    {
     "data": {
      "text/plain": [
       "GridSearchCV(cv='warn', error_score='raise-deprecating',\n",
       "       estimator=DecisionTreeRegressor(criterion='mse', max_depth=None, max_features=None,\n",
       "           max_leaf_nodes=None, min_impurity_decrease=0.0,\n",
       "           min_impurity_split=None, min_samples_leaf=1,\n",
       "           min_samples_split=2, min_weight_fraction_leaf=0.0,\n",
       "           presort=False, random_state=None, splitter='best'),\n",
       "       fit_params=None, iid='warn', n_jobs=None,\n",
       "       param_grid={'max_depth': [None, 2, 5, 10, 12, 15, 12, 20, 25, 30], 'random_state': [42]},\n",
       "       pre_dispatch='2*n_jobs', refit=True, return_train_score='warn',\n",
       "       scoring=None, verbose=10)"
      ]
     },
     "execution_count": 39,
     "metadata": {},
     "output_type": "execute_result"
    }
   ],
   "source": [
    "reg.fit(prepared,train_label)"
   ]
  },
  {
   "cell_type": "markdown",
   "metadata": {},
   "source": [
    "Looking at the grid search, the score improves as max_depth increases. Although we get similar scores with depths like 30, I chose to go with passing the None type, becuase the tree will adjust to the depth needed. And with our paticular question this seems to be the best solution. "
   ]
  }
 ],
 "metadata": {
  "kernelspec": {
   "display_name": "Python 3",
   "language": "python",
   "name": "python3"
  },
  "language_info": {
   "codemirror_mode": {
    "name": "ipython",
    "version": 3
   },
   "file_extension": ".py",
   "mimetype": "text/x-python",
   "name": "python",
   "nbconvert_exporter": "python",
   "pygments_lexer": "ipython3",
   "version": "3.7.3"
  }
 },
 "nbformat": 4,
 "nbformat_minor": 2
}
